{
 "cells": [
  {
   "cell_type": "code",
   "execution_count": 1,
   "metadata": {},
   "outputs": [],
   "source": [
    "from konlpy.tag import Komoran\n",
    "from konlpy.tag import Okt\n",
    "import glob\n",
    "import pandas as pd\n",
    "import re\n",
    "import nltk\n",
    "from konlpy.corpus import kobill\n",
    "from wordcloud import WordCloud, STOPWORDS\n",
    "import numpy as np\n",
    "from PIL import Image\n",
    "from konlpy.tag import Okt"
   ]
  },
  {
   "cell_type": "code",
   "execution_count": 2,
   "metadata": {},
   "outputs": [],
   "source": [
    "keyword = '시베리아 횡단 열차'"
   ]
  },
  {
   "cell_type": "code",
   "execution_count": 3,
   "metadata": {},
   "outputs": [],
   "source": [
    "file_list=glob.glob('./data/insta/*.csv')"
   ]
  },
  {
   "cell_type": "code",
   "execution_count": 4,
   "metadata": {},
   "outputs": [
    {
     "data": {
      "text/plain": [
       "['./data/insta\\\\insta_게스트하우스.csv',\n",
       " './data/insta\\\\insta_시베리아 횡단열차.csv',\n",
       " './data/insta\\\\insta_여행기록.csv',\n",
       " './data/insta\\\\insta_여행에미치다.csv',\n",
       " './data/insta\\\\insta_크루즈여행.csv',\n",
       " './data/insta\\\\insta_크루즈투어.csv',\n",
       " './data/insta\\\\insta_팬스타크루즈.csv',\n",
       " './data/insta\\\\insta_호캉스.csv',\n",
       " './data/insta\\\\insta_휴가.csv',\n",
       " './data/insta\\\\insta_휴가스타그램.csv']"
      ]
     },
     "execution_count": 4,
     "metadata": {},
     "output_type": "execute_result"
    }
   ],
   "source": [
    "file_list"
   ]
  },
  {
   "cell_type": "code",
   "execution_count": 5,
   "metadata": {},
   "outputs": [],
   "source": [
    "data = pd.read_csv('./data/insta\\\\insta_시베리아 횡단열차.csv',engine='python',encoding='utf-8',names=['text'])"
   ]
  },
  {
   "cell_type": "code",
   "execution_count": 6,
   "metadata": {},
   "outputs": [],
   "source": [
    "# a = pd.unique(data['text'])\n",
    "# text_list=[]\n",
    "# for text in a:\n",
    "#     flag=False\n",
    "#     for ad_text in advertise:\n",
    "#         if text.find(ad_text) >= 0:\n",
    "#             flag=True\n",
    "#             break\n",
    "#     if flag == False:               \n",
    "#         text_list.append(text)  "
   ]
  },
  {
   "cell_type": "code",
   "execution_count": 7,
   "metadata": {},
   "outputs": [],
   "source": [
    "def stripe(st):\n",
    "    RE_EMOJI = re.compile('[\\U00010000-\\U0010ffff]', flags=re.UNICODE)\n",
    "    return RE_EMOJI.sub(r'', st)"
   ]
  },
  {
   "cell_type": "code",
   "execution_count": 8,
   "metadata": {},
   "outputs": [],
   "source": [
    "p_doc = ''.join(list(pd.unique(data['text'])))"
   ]
  },
  {
   "cell_type": "code",
   "execution_count": 9,
   "metadata": {},
   "outputs": [],
   "source": [
    "p_doc = stripe(p_doc)"
   ]
  },
  {
   "cell_type": "code",
   "execution_count": 10,
   "metadata": {},
   "outputs": [],
   "source": [
    "#print(p_doc)"
   ]
  },
  {
   "cell_type": "code",
   "execution_count": 11,
   "metadata": {},
   "outputs": [],
   "source": [
    "p_t = Okt(max_heap_size=4096)\n",
    "p_tokens_ko = p_t.nouns(p_doc)\n",
    "p_ko = nltk.Text(p_tokens_ko, name = '시베리아 횡단 열차')"
   ]
  },
  {
   "cell_type": "code",
   "execution_count": 12,
   "metadata": {},
   "outputs": [],
   "source": [
    "stop_words = ['시베리아 횡단 열차','열차','러시아','시베리아','횡단','블라디','진짜','보스','톡','또','내','정말','기차','마지막','오늘','것','그','보고','우리','하바롭스크','한국','다시','날','도착','언니','이제','너','때','인스타','모스크바','하루','타고','곳','더','개','꼭','박','생각','안','조심','말','이','지금','사실']\n",
    "p_tmp        = [ word for word in p_ko if word not in stop_words ]\n",
    "p_ko = nltk.Text(p_tmp, name= '시베리아 횡단 열차')\n",
    "p_data = p_ko.vocab().most_common(100)"
   ]
  },
  {
   "cell_type": "code",
   "execution_count": 13,
   "metadata": {
    "scrolled": false
   },
   "outputs": [
    {
     "data": {
      "text/plain": [
       "{'여행': 119,\n",
       " '사진': 49,\n",
       " '나': 47,\n",
       " '사람': 45,\n",
       " '시간': 29,\n",
       " '친구': 23,\n",
       " '소통': 17,\n",
       " '대화': 14,\n",
       " '날씨': 14,\n",
       " '혼자': 13,\n",
       " '오': 13,\n",
       " '러시아어': 13,\n",
       " '추억': 12,\n",
       " '일': 12,\n",
       " '저': 12,\n",
       " '준비': 12,\n",
       " '거의': 11,\n",
       " '후기': 11,\n",
       " '아침': 11,\n",
       " '수': 11,\n",
       " '거': 11,\n",
       " '중': 11,\n",
       " '어디': 11,\n",
       " '도': 10,\n",
       " '다음': 10,\n",
       " '살': 10,\n",
       " '한번': 10,\n",
       " '대박': 10,\n",
       " '이르쿠츠크': 10,\n",
       " '뭐': 10,\n",
       " '선물': 9,\n",
       " '얼굴': 9,\n",
       " '맞팔': 9,\n",
       " '잠': 9,\n",
       " '처음': 9,\n",
       " '출발': 9,\n",
       " '풍경': 9,\n",
       " '온': 9,\n",
       " '몽골': 9,\n",
       " '그램': 9,\n",
       " '가요': 9,\n",
       " '계획': 9,\n",
       " '탈린': 9,\n",
       " '미지': 9,\n",
       " '녀': 9,\n",
       " '왜': 8,\n",
       " '누나': 8,\n",
       " '한국인': 8,\n",
       " '동안': 8,\n",
       " '형': 8,\n",
       " '난': 8,\n",
       " '김': 8,\n",
       " '바람': 8,\n",
       " '돈': 8,\n",
       " '영하': 8,\n",
       " '경험': 8,\n",
       " '오빠': 8,\n",
       " '피드': 8,\n",
       " '계속': 8,\n",
       " '스타': 8,\n",
       " '자주': 8,\n",
       " '구경': 8,\n",
       " '역': 8,\n",
       " '차안': 8,\n",
       " '라면': 8,\n",
       " '모자': 8,\n",
       " '머리': 8,\n",
       " '코키': 7,\n",
       " '여기': 7,\n",
       " '가족': 7,\n",
       " '언제': 7,\n",
       " '유럽': 7,\n",
       " '어제': 7,\n",
       " '이번': 7,\n",
       " '못': 7,\n",
       " '거지': 7,\n",
       " '좀': 7,\n",
       " '분': 7,\n",
       " '눈': 7,\n",
       " '공항': 7,\n",
       " '전': 7,\n",
       " '번': 7,\n",
       " '느낌': 7,\n",
       " '인생': 7,\n",
       " '추천': 7,\n",
       " '해': 7,\n",
       " '횡': 7,\n",
       " '단열': 7,\n",
       " '북한': 7,\n",
       " '영어': 7,\n",
       " '겨울': 7,\n",
       " '가면': 6,\n",
       " '아이': 6,\n",
       " '횡단열차': 6,\n",
       " '내일': 6,\n",
       " '그냥': 6,\n",
       " '글': 6,\n",
       " '짐': 6,\n",
       " '함': 6,\n",
       " '앞': 6}"
      ]
     },
     "execution_count": 13,
     "metadata": {},
     "output_type": "execute_result"
    }
   ],
   "source": [
    "dict(p_data)"
   ]
  },
  {
   "cell_type": "code",
   "execution_count": 14,
   "metadata": {},
   "outputs": [],
   "source": [
    "# p_t = Okt()\n",
    "# p_tokens_ko = p_t.nouns(p_doc)\n",
    "# p_ko = nltk.Text(p_tokens_ko, name = keyword)\n",
    "# stop_words = [keyword,'크루즈','여행']\n",
    "# p_tmp        = [ word for word in p_ko if word not in stop_words ]\n",
    "# p_ko = nltk.Text(p_tmp, name= keyword)\n",
    "# p_data = p_ko.vocab().most_common(50)"
   ]
  },
  {
   "cell_type": "code",
   "execution_count": 15,
   "metadata": {},
   "outputs": [],
   "source": [
    "import pandas as pd\n",
    "freq = dict(p_data)\n",
    "df = pd.DataFrame.from_dict(freq, orient='index',columns=['freq'])\n",
    "df.to_excel('./data/csv/시베리아 횡단 열차2.xlsx',encoding='utf-8')"
   ]
  },
  {
   "cell_type": "code",
   "execution_count": 38,
   "metadata": {
    "scrolled": true
   },
   "outputs": [
    {
     "name": "stdout",
     "output_type": "stream",
     "text": [
      "cho_hk7316\n",
      "모스크바 도착!!!\n",
      "일주일동안 재밌고 힘들었던 횡단열차ㅜㅜ냄새때문에 나무 고생했다....\n",
      "3일동안 같이놀아준 지은이누나랑 수지누나없었으면 횡단열차에서 왕따였을듯...\n",
      "앤드류한테 선물도 받고 가족들도 만나고 자냐,일본인 뮤지션분도 만나고 그리고 코키랑은 거의 베프됬다ㅎㅎ\n",
      "모두 재밌었고 다들 자기여행 재밌게하고 너무 좋은 추억이었어😀🚞\n",
      "앤드류는 못알아보겠지만 코키는 번역했으면ㅎ.. #시베리아횡단열차 #시베리아횡단열차🚂 #혼자여행 #같이여행 #7일차 #버킷리스트 #추억 #모스크바\n",
      "--------------------------------------------------------------------------------------------------------------\n",
      "zunng_g\n",
      "동이니선물잊지마라요🙆‍♀️🥰\n",
      "--------------------------------------------------------------------------------------------------------------\n",
      "minzi_0627\n",
      "정말 행복했던 6일💜\n",
      "좋은 사람들과 함께 했던 러시아는 저한테 큰 선물이 되었습니다😊\n",
      "함께 했던 사람들 모두 하라쇼 러시아 하라쇼 хорошо👍🏻❤️ Давайте встретимся снова в следующий раз.♥️ #시베리아횡단열차🚂 #러시아여행 #블라디보스톡 #모스코바\n",
      "--------------------------------------------------------------------------------------------------------------\n",
      "sssheez\n",
      "@ki_se.ok_ok 그럼 올때 선물 👍\n",
      "--------------------------------------------------------------------------------------------------------------\n",
      "seoulsketcher_doo\n",
      "#러시아여행 #시베리아횡단열차 #2등석 #러시아 #군의관 #시베리아횡단열차🚂 에서 만났던 러시아 군의관 알렉산더 세르게이 #푸쉬킨 의 후예라며 자부심 가득했던 친구. 이번 내 책에도 그는 중요한 등장 인물이며 그가 준 러시아 각설탕과 녹차는 지금도 잘 먹고 있다. 나는 그의 딸에게 줄 선물로 부채에 그림을 그려 줬고 그는 내게 우수 군의관에게 시상한다는 스탈린이 도안한 배지를 선물해 줬다. 러시아를 생각할 때마다 그는 빠짐 없이 내 기억에서 용수철처럼 튀어 나올 것이다. 러시아 남자의 무표정한 얼굴은 절대 화난 것이 아니라며 웃었던 알렉산더. 그와 헤어졌던 치타역에서의 마지막 인사는 see you later였지만 어쩌면 영원히 지켜지지 못 할 약속이 될 것이다. #russia #chita #transiberian #tsr #urbansketcher #sketch #watercolor #My Russian friend Doctor Alexander\n",
      "--------------------------------------------------------------------------------------------------------------\n",
      "bo_kiiiyoung\n",
      "🇷🇺시베리아 횡단 열차 타 보신 분이나 러시아 여행 가 보신 분들🇷🇺\n",
      "엄청 가고 싶고 진짜 갈건데,, 아무것도 모르겠고 뭐부터 어찌해야 할 지 막막한 애송이들에게 도움을 주세요😭😭😭\n",
      ".\n",
      "+ 쓸만한 사진이 없어서 매우 갑작스럽게 생일선물 인증💕 @jiwon__0__0 감성샷찍기 딱 좋다며~~~~ 깔깔깔~~~\n",
      "--------------------------------------------------------------------------------------------------------------\n",
      "dororos2\n",
      "#아무걱정없이 #훌쩍떠날수있을까? #그럴수없다는게함정 #눈물이훌쩍 #이책에 #내갬성을담아 #나만의여행레시피 만들어보자 #책선물🎁 #알히갸툐 #러시아선물을위한 #빅픽쳐 #여행스타그램✈️ #여행에미치다 #시베리아횡단열차🚂 #블라디보스톡 #vladivostok #commingsoon🔜\n",
      "--------------------------------------------------------------------------------------------------------------\n",
      "9_jeong_a\n",
      "#하바롭스크에서블라디보스톡\n",
      "\n",
      "#시베리아횡단열차🚂\n",
      "#11시간통잠\n",
      "와파도안터지고 러시아인과의같은방이라 서목서목했지만 빠나나랑커피우려내는 선물도 주고 인상에 깊었다 #두번은타지말자\n",
      "--------------------------------------------------------------------------------------------------------------\n",
      "janggeun8619\n",
      "선물 사온나\n",
      "--------------------------------------------------------------------------------------------------------------\n"
     ]
    }
   ],
   "source": [
    "b = pd.Series(pd.unique(data['text']))\n",
    "\n",
    "for idx,text in enumerate(b):    \n",
    "    if text.find('선물') >= 0:\n",
    "        print(b[idx])\n",
    "        print('-'*110)"
   ]
  },
  {
   "cell_type": "code",
   "execution_count": null,
   "metadata": {},
   "outputs": [],
   "source": []
  }
 ],
 "metadata": {
  "kernelspec": {
   "display_name": "Python 3",
   "language": "python",
   "name": "python3"
  },
  "language_info": {
   "codemirror_mode": {
    "name": "ipython",
    "version": 3
   },
   "file_extension": ".py",
   "mimetype": "text/x-python",
   "name": "python",
   "nbconvert_exporter": "python",
   "pygments_lexer": "ipython3",
   "version": "3.7.1"
  }
 },
 "nbformat": 4,
 "nbformat_minor": 2
}
