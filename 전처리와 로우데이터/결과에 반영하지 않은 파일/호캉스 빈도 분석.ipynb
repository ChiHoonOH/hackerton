{
 "cells": [
  {
   "cell_type": "code",
   "execution_count": 1,
   "metadata": {},
   "outputs": [],
   "source": [
    "from konlpy.tag import Komoran\n",
    "from konlpy.tag import Okt\n",
    "import glob\n",
    "import pandas as pd\n",
    "import re\n",
    "import nltk\n",
    "from konlpy.corpus import kobill\n",
    "from wordcloud import WordCloud, STOPWORDS\n",
    "import numpy as np\n",
    "from PIL import Image\n",
    "from konlpy.tag import Okt"
   ]
  },
  {
   "cell_type": "code",
   "execution_count": 2,
   "metadata": {},
   "outputs": [],
   "source": [
    "keyword = '호캉스'"
   ]
  },
  {
   "cell_type": "code",
   "execution_count": 3,
   "metadata": {},
   "outputs": [],
   "source": [
    "file_list=glob.glob('./data/insta/*.csv')"
   ]
  },
  {
   "cell_type": "code",
   "execution_count": 4,
   "metadata": {},
   "outputs": [
    {
     "data": {
      "text/plain": [
       "['./data/insta\\\\insta_게스트하우스.csv',\n",
       " './data/insta\\\\insta_시베리아 횡단열차.csv',\n",
       " './data/insta\\\\insta_여행기록.csv',\n",
       " './data/insta\\\\insta_여행에미치다.csv',\n",
       " './data/insta\\\\insta_크루즈여행.csv',\n",
       " './data/insta\\\\insta_크루즈투어.csv',\n",
       " './data/insta\\\\insta_팬스타크루즈.csv',\n",
       " './data/insta\\\\insta_호캉스.csv',\n",
       " './data/insta\\\\insta_휴가.csv',\n",
       " './data/insta\\\\insta_휴가스타그램.csv']"
      ]
     },
     "execution_count": 4,
     "metadata": {},
     "output_type": "execute_result"
    }
   ],
   "source": [
    "file_list"
   ]
  },
  {
   "cell_type": "code",
   "execution_count": 5,
   "metadata": {},
   "outputs": [],
   "source": [
    "data = pd.read_csv('./data/insta\\\\insta_호캉스.csv',engine='python',encoding='utf-8',names=['text'])"
   ]
  },
  {
   "cell_type": "code",
   "execution_count": 6,
   "metadata": {},
   "outputs": [],
   "source": [
    "#data"
   ]
  },
  {
   "cell_type": "code",
   "execution_count": 7,
   "metadata": {},
   "outputs": [],
   "source": [
    "advertise = ['마케팅','최신','타겟','노출','게시','도배','수집','꽃집','워드','선택','효과','동안','서비스','인기','가능','업종','연락처','작성','팅','기법','대량','덤','몇장','배포','원고','지속','문의']\n",
    "a = pd.unique(data['text'])\n",
    "text_list=[]\n",
    "for text in a:\n",
    "    flag=False\n",
    "    for ad_text in advertise:\n",
    "        if text.find(ad_text) >= 0:\n",
    "            flag=True\n",
    "            break\n",
    "    if flag == False:               \n",
    "        text_list.append(text)  \n",
    "            \n",
    "            "
   ]
  },
  {
   "cell_type": "code",
   "execution_count": 8,
   "metadata": {},
   "outputs": [],
   "source": [
    "def stripe(st):\n",
    "    RE_EMOJI = re.compile('[\\U00010000-\\U0010ffff]', flags=re.UNICODE)\n",
    "    return RE_EMOJI.sub(r'', st)"
   ]
  },
  {
   "cell_type": "code",
   "execution_count": 9,
   "metadata": {},
   "outputs": [],
   "source": [
    "p_doc = ''.join(text_list)"
   ]
  },
  {
   "cell_type": "code",
   "execution_count": 10,
   "metadata": {},
   "outputs": [],
   "source": [
    "p_doc = stripe(p_doc)"
   ]
  },
  {
   "cell_type": "code",
   "execution_count": 11,
   "metadata": {},
   "outputs": [],
   "source": [
    "p_t = Okt(max_heap_size=15096)\n",
    "p_tokens_ko = p_t.nouns(p_doc)\n",
    "p_ko = nltk.Text(p_tokens_ko, name = keyword)"
   ]
  },
  {
   "cell_type": "code",
   "execution_count": 12,
   "metadata": {},
   "outputs": [
    {
     "data": {
      "text/plain": [
       "nltk.text.Text"
      ]
     },
     "execution_count": 12,
     "metadata": {},
     "output_type": "execute_result"
    }
   ],
   "source": [
    "type(p_ko)"
   ]
  },
  {
   "cell_type": "code",
   "execution_count": 13,
   "metadata": {},
   "outputs": [],
   "source": [
    "\n",
    "#원본\n",
    "#stop_words = [keyword,'호캉스']\n",
    "stop_words = [keyword,'호캉스','및','인스타그램','키','수십','사','수','보고','해시태그','제주','그램','인스타','날']\n",
    "\n",
    "\n",
    "#['마케팅','최신','타겟','노출','게시','도배','수집','꽃집','워드','선택','효과','동안','서비스','인기','가능','업종','연락처','작성','팅','기법','대량','덤','몇장','배포','원고','지속','문의']\n",
    "p_tmp        = [ word for word in p_ko if word not in stop_words ]\n",
    "p_ko = nltk.Text(p_tmp, name= keyword)\n",
    "p_data = p_ko.vocab().most_common(200)"
   ]
  },
  {
   "cell_type": "code",
   "execution_count": 14,
   "metadata": {},
   "outputs": [
    {
     "data": {
      "text/plain": [
       "{'여행': 494,\n",
       " '호텔': 396,\n",
       " '소통': 336,\n",
       " '스타': 318,\n",
       " '사진': 299,\n",
       " '하루': 199,\n",
       " '진짜': 165,\n",
       " '나': 155,\n",
       " '오늘': 153,\n",
       " '맘': 149,\n",
       " '우리': 145,\n",
       " '일상': 139,\n",
       " '피드': 139,\n",
       " '육아': 138,\n",
       " '저': 123,\n",
       " '또': 121,\n",
       " '구경': 116,\n",
       " '언니': 111,\n",
       " '수영장': 110,\n",
       " '더': 110,\n",
       " '데': 105,\n",
       " '제': 101,\n",
       " '선팔': 97,\n",
       " '여기': 96,\n",
       " '맞팔': 94,\n",
       " '일리': 89,\n",
       " '아기': 87,\n",
       " '힐링': 86,\n",
       " '수영': 83,\n",
       " '때': 83,\n",
       " '부산': 81,\n",
       " '오': 81,\n",
       " '조식': 80,\n",
       " '시간': 78,\n",
       " '가요': 77,\n",
       " '자주': 73,\n",
       " '곳': 71,\n",
       " '너': 70,\n",
       " '요': 68,\n",
       " '내': 68,\n",
       " '겨울': 67,\n",
       " '휴가': 65,\n",
       " '완전': 64,\n",
       " '가족': 64,\n",
       " '왜': 63,\n",
       " '바다': 63,\n",
       " '뷰': 63,\n",
       " '친구': 62,\n",
       " '엄마': 60,\n",
       " '것': 57,\n",
       " '생일': 57,\n",
       " '사랑': 57,\n",
       " '거': 56,\n",
       " '맛집': 56,\n",
       " '용': 55,\n",
       " '제주도': 55,\n",
       " '아들': 55,\n",
       " '날씨': 55,\n",
       " '축하': 53,\n",
       " '맛': 52,\n",
       " '비키니': 52,\n",
       " '최고': 51,\n",
       " '해': 51,\n",
       " '카페': 50,\n",
       " '힐튼': 50,\n",
       " '집': 50,\n",
       " '수영복': 49,\n",
       " '정말': 49,\n",
       " '뭐': 49,\n",
       " '딸': 49,\n",
       " '한번': 48,\n",
       " '아이': 48,\n",
       " '좀': 47,\n",
       " '대박': 47,\n",
       " '어디': 47,\n",
       " '풀': 47,\n",
       " '애': 47,\n",
       " '셀카': 46,\n",
       " '추천': 45,\n",
       " '지금': 44,\n",
       " '꼭': 44,\n",
       " '여수': 44,\n",
       " '옷': 44,\n",
       " '호': 43,\n",
       " '다낭': 43,\n",
       " '밤': 42,\n",
       " '개': 42,\n",
       " '살': 42,\n",
       " '박': 42,\n",
       " '감기': 42,\n",
       " '물놀이': 41,\n",
       " '리조트': 41,\n",
       " '파라다이스': 41,\n",
       " '이': 41,\n",
       " '이제': 41,\n",
       " '미소': 41,\n",
       " '팔로우': 40,\n",
       " '일': 40,\n",
       " '인천': 40,\n",
       " '개월': 39,\n",
       " '오빠': 39,\n",
       " '요즘': 38,\n",
       " '베트남': 38,\n",
       " '전': 38,\n",
       " '다시': 38,\n",
       " '스파': 37,\n",
       " '말': 37,\n",
       " '둘': 37,\n",
       " '돌': 37,\n",
       " '서울': 36,\n",
       " '운동': 36,\n",
       " '이번': 36,\n",
       " '세상': 36,\n",
       " '사람': 35,\n",
       " '마지막': 35,\n",
       " '중': 35,\n",
       " '한국': 35,\n",
       " '셀': 35,\n",
       " '행복': 35,\n",
       " '니': 35,\n",
       " '다음': 34,\n",
       " '옹': 34,\n",
       " '분위기': 34,\n",
       " '와우': 33,\n",
       " '벌써': 33,\n",
       " '인': 33,\n",
       " '내일': 33,\n",
       " '안': 33,\n",
       " '물': 32,\n",
       " '여름': 32,\n",
       " '언제': 32,\n",
       " '아빠': 32,\n",
       " '네': 32,\n",
       " '역시': 31,\n",
       " '다이어트': 31,\n",
       " '이모': 31,\n",
       " '앞': 31,\n",
       " '생각': 30,\n",
       " '난': 30,\n",
       " '도': 30,\n",
       " '기분': 30,\n",
       " '캉스': 29,\n",
       " '시티': 29,\n",
       " '담': 29,\n",
       " '온': 29,\n",
       " '핫': 29,\n",
       " '보기': 29,\n",
       " '바': 28,\n",
       " '그': 28,\n",
       " '방콕': 28,\n",
       " '아난': 28,\n",
       " '티': 28,\n",
       " '파티': 27,\n",
       " '혼자': 27,\n",
       " '글': 27,\n",
       " '몸매': 26,\n",
       " '응': 26,\n",
       " '계속': 26,\n",
       " '느낌': 26,\n",
       " '댓글': 26,\n",
       " '분': 26,\n",
       " '신라': 26,\n",
       " '놀러와': 26,\n",
       " '굿': 26,\n",
       " '젤': 26,\n",
       " '끝': 26,\n",
       " '아침': 26,\n",
       " '임산부': 26,\n",
       " '오션': 26,\n",
       " '인생': 25,\n",
       " '유': 25,\n",
       " '추억': 25,\n",
       " '그냥': 25,\n",
       " '선물': 25,\n",
       " '룸': 25,\n",
       " '예약': 25,\n",
       " '인친': 25,\n",
       " '줄': 25,\n",
       " '방': 25,\n",
       " '아스타': 25,\n",
       " '셀피': 24,\n",
       " '가기': 24,\n",
       " '준비': 24,\n",
       " '눈': 24,\n",
       " '데이트': 24,\n",
       " '여자': 24,\n",
       " '몸': 23,\n",
       " '여유': 23,\n",
       " '세부': 23,\n",
       " '비': 23,\n",
       " '세용': 23,\n",
       " '모델': 23,\n",
       " '럽': 23,\n",
       " '맥주': 23,\n",
       " '못': 23,\n",
       " '봄': 23,\n",
       " '누구': 23,\n",
       " '얼': 23,\n",
       " '곱창': 23,\n",
       " '오오': 22}"
      ]
     },
     "execution_count": 14,
     "metadata": {},
     "output_type": "execute_result"
    }
   ],
   "source": [
    "dict(p_data)"
   ]
  },
  {
   "cell_type": "code",
   "execution_count": 15,
   "metadata": {},
   "outputs": [],
   "source": [
    "import pandas as pd\n",
    "freq = dict(p_data)\n",
    "df = pd.DataFrame.from_dict(freq, orient='index',columns=['freq'])\n",
    "df.to_excel('./data/csv/호캉스2.xlsx',encoding='utf-8')"
   ]
  },
  {
   "cell_type": "code",
   "execution_count": null,
   "metadata": {},
   "outputs": [],
   "source": []
  },
  {
   "cell_type": "code",
   "execution_count": null,
   "metadata": {},
   "outputs": [],
   "source": []
  }
 ],
 "metadata": {
  "kernelspec": {
   "display_name": "Python 3",
   "language": "python",
   "name": "python3"
  },
  "language_info": {
   "codemirror_mode": {
    "name": "ipython",
    "version": 3
   },
   "file_extension": ".py",
   "mimetype": "text/x-python",
   "name": "python",
   "nbconvert_exporter": "python",
   "pygments_lexer": "ipython3",
   "version": "3.7.1"
  }
 },
 "nbformat": 4,
 "nbformat_minor": 2
}
