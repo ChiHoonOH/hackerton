{
 "cells": [
  {
   "cell_type": "code",
   "execution_count": 1,
   "metadata": {},
   "outputs": [],
   "source": [
    "from konlpy.tag import Komoran\n",
    "from konlpy.tag import Okt\n",
    "import glob\n",
    "import pandas as pd\n",
    "import re\n",
    "import nltk\n",
    "from konlpy.corpus import kobill\n",
    "from wordcloud import WordCloud, STOPWORDS\n",
    "import numpy as np\n",
    "from PIL import Image\n",
    "from konlpy.tag import Okt"
   ]
  },
  {
   "cell_type": "code",
   "execution_count": 2,
   "metadata": {},
   "outputs": [],
   "source": [
    "keyword = '여행에미치다'"
   ]
  },
  {
   "cell_type": "code",
   "execution_count": 3,
   "metadata": {},
   "outputs": [],
   "source": [
    "file_list=glob.glob('./data/insta/*.csv')"
   ]
  },
  {
   "cell_type": "code",
   "execution_count": 4,
   "metadata": {},
   "outputs": [
    {
     "data": {
      "text/plain": [
       "['./data/insta\\\\insta_게스트하우스.csv',\n",
       " './data/insta\\\\insta_시베리아 횡단열차.csv',\n",
       " './data/insta\\\\insta_여행기록.csv',\n",
       " './data/insta\\\\insta_여행에미치다.csv',\n",
       " './data/insta\\\\insta_크루즈여행.csv',\n",
       " './data/insta\\\\insta_크루즈투어.csv',\n",
       " './data/insta\\\\insta_팬스타크루즈.csv',\n",
       " './data/insta\\\\insta_호캉스.csv',\n",
       " './data/insta\\\\insta_휴가.csv',\n",
       " './data/insta\\\\insta_휴가스타그램.csv']"
      ]
     },
     "execution_count": 4,
     "metadata": {},
     "output_type": "execute_result"
    }
   ],
   "source": [
    "file_list"
   ]
  },
  {
   "cell_type": "code",
   "execution_count": 5,
   "metadata": {},
   "outputs": [],
   "source": [
    "data = pd.read_csv('./data/insta\\\\insta_{0}.csv'.format(keyword),engine='python',encoding='utf-8',names=['text'])"
   ]
  },
  {
   "cell_type": "code",
   "execution_count": 6,
   "metadata": {},
   "outputs": [],
   "source": [
    "#data"
   ]
  },
  {
   "cell_type": "code",
   "execution_count": 7,
   "metadata": {},
   "outputs": [],
   "source": [
    "advertise = ['마케팅','최신','타겟','노출','게시','도배','수집','꽃집','워드','선택','효과','동안','서비스','인기','가능','업종','연락처','작성','팅','기법','대량','덤','몇장','배포','원고','지속','문의']\n",
    "a = pd.unique(data['text'])\n",
    "text_list=[]\n",
    "for text in a:\n",
    "    flag=False\n",
    "    for ad_text in advertise:\n",
    "        if text.find(ad_text) >= 0:\n",
    "            flag=True\n",
    "            break\n",
    "    if flag == False:               \n",
    "        text_list.append(text)  \n",
    "            \n",
    "            "
   ]
  },
  {
   "cell_type": "code",
   "execution_count": 8,
   "metadata": {},
   "outputs": [],
   "source": [
    "def stripe(st):\n",
    "    RE_EMOJI = re.compile('[\\U00010000-\\U0010ffff]', flags=re.UNICODE)\n",
    "    return RE_EMOJI.sub(r'', st)"
   ]
  },
  {
   "cell_type": "code",
   "execution_count": 9,
   "metadata": {},
   "outputs": [],
   "source": [
    "p_doc = ''.join(text_list)"
   ]
  },
  {
   "cell_type": "code",
   "execution_count": 10,
   "metadata": {},
   "outputs": [],
   "source": [
    "p_doc = stripe(p_doc)"
   ]
  },
  {
   "cell_type": "code",
   "execution_count": 11,
   "metadata": {},
   "outputs": [],
   "source": [
    "p_t = Okt(max_heap_size=20096)\n",
    "p_tokens_ko = p_t.nouns(p_doc)\n",
    "p_ko = nltk.Text(p_tokens_ko, name = keyword)"
   ]
  },
  {
   "cell_type": "code",
   "execution_count": 12,
   "metadata": {},
   "outputs": [
    {
     "data": {
      "text/plain": [
       "nltk.text.Text"
      ]
     },
     "execution_count": 12,
     "metadata": {},
     "output_type": "execute_result"
    }
   ],
   "source": [
    "type(p_ko)"
   ]
  },
  {
   "cell_type": "code",
   "execution_count": 13,
   "metadata": {},
   "outputs": [],
   "source": [
    "\n",
    "#원본\n",
    "#stop_words = [keyword,'호캉스']\n",
    "stop_words = [keyword,'호캉스','및','인스타그램','키','수십','사','수','보고','해시태그','제주','그램','인스타','날']\n",
    "\n",
    "\n",
    "#['마케팅','최신','타겟','노출','게시','도배','수집','꽃집','워드','선택','효과','동안','서비스','인기','가능','업종','연락처','작성','팅','기법','대량','덤','몇장','배포','원고','지속','문의']\n",
    "p_tmp        = [ word for word in p_ko if word not in stop_words ]\n",
    "p_ko = nltk.Text(p_tmp, name= keyword)\n",
    "p_data = p_ko.vocab().most_common(200)"
   ]
  },
  {
   "cell_type": "code",
   "execution_count": 14,
   "metadata": {},
   "outputs": [
    {
     "data": {
      "text/plain": [
       "{'여행': 791,\n",
       " '스타': 291,\n",
       " '사진': 201,\n",
       " '소통': 174,\n",
       " '일상': 145,\n",
       " '카페': 96,\n",
       " '맞팔': 90,\n",
       " '데': 82,\n",
       " '일리': 74,\n",
       " '나': 73,\n",
       " '곳': 66,\n",
       " '저': 65,\n",
       " '하루': 65,\n",
       " '내': 59,\n",
       " '진짜': 57,\n",
       " '선팔': 56,\n",
       " '오늘': 53,\n",
       " '팔로우': 49,\n",
       " '피드': 47,\n",
       " '또': 47,\n",
       " '바다': 46,\n",
       " '우리': 46,\n",
       " '셀카': 44,\n",
       " '더': 44,\n",
       " '사람': 43,\n",
       " '것': 43,\n",
       " '구경': 43,\n",
       " '맛집': 43,\n",
       " '셀': 41,\n",
       " '제주도': 40,\n",
       " '날씨': 39,\n",
       " '일본': 38,\n",
       " '스냅': 38,\n",
       " '너': 38,\n",
       " '제': 37,\n",
       " '호주': 36,\n",
       " '유럽': 36,\n",
       " '요': 36,\n",
       " '생각': 31,\n",
       " '셀피': 31,\n",
       " '시드니': 31,\n",
       " '겨울': 31,\n",
       " '때': 30,\n",
       " '거': 30,\n",
       " '시간': 30,\n",
       " '지금': 29,\n",
       " '호텔': 29,\n",
       " '한국': 29,\n",
       " '말': 28,\n",
       " '정말': 28,\n",
       " '가요': 28,\n",
       " '자주': 27,\n",
       " '눈': 27,\n",
       " '그': 27,\n",
       " '여기': 27,\n",
       " '투어': 27,\n",
       " '힐링': 27,\n",
       " '감성': 27,\n",
       " '이': 26,\n",
       " '부산': 26,\n",
       " '주부': 26,\n",
       " '멜버른': 26,\n",
       " '추천': 26,\n",
       " '왜': 26,\n",
       " '오': 25,\n",
       " '기록': 25,\n",
       " '괌': 24,\n",
       " '인친': 23,\n",
       " '한번': 23,\n",
       " '하나': 22,\n",
       " '반사': 22,\n",
       " '언니': 22,\n",
       " '오오': 22,\n",
       " '티디': 22,\n",
       " '오사카': 22,\n",
       " '칸쿤': 22,\n",
       " '세상': 21,\n",
       " '얼': 21,\n",
       " '풍경': 21,\n",
       " '하와이': 21,\n",
       " '핫': 20,\n",
       " '맛': 20,\n",
       " '다시': 20,\n",
       " '봄': 20,\n",
       " '마을': 20,\n",
       " '럽': 20,\n",
       " '용': 20,\n",
       " '해': 20,\n",
       " '이제': 20,\n",
       " '바람': 20,\n",
       " '커피': 19,\n",
       " '가족': 19,\n",
       " '개': 19,\n",
       " '발리': 19,\n",
       " '여행지': 19,\n",
       " '마음': 19,\n",
       " '좀': 19,\n",
       " '마지막': 18,\n",
       " '그냥': 18,\n",
       " '티': 18,\n",
       " '중': 18,\n",
       " '앞': 17,\n",
       " '인': 17,\n",
       " '어디': 17,\n",
       " '태국': 17,\n",
       " '일본여행': 17,\n",
       " '뭐': 17,\n",
       " '여행사진': 17,\n",
       " '반': 17,\n",
       " '맘': 17,\n",
       " '꼭': 16,\n",
       " '최고': 16,\n",
       " '도착': 16,\n",
       " '친구': 16,\n",
       " '도쿄': 16,\n",
       " '대박': 16,\n",
       " '전': 16,\n",
       " '네': 16,\n",
       " '처음': 16,\n",
       " '살': 16,\n",
       " '아주': 15,\n",
       " '이번': 15,\n",
       " '밤': 15,\n",
       " '방콕': 15,\n",
       " '줌마': 15,\n",
       " '커플': 15,\n",
       " '세계': 15,\n",
       " '가장': 15,\n",
       " '사이판': 15,\n",
       " '파리': 15,\n",
       " '집': 15,\n",
       " '기분': 15,\n",
       " '감기': 14,\n",
       " '때문': 14,\n",
       " '댓글': 14,\n",
       " '통': 14,\n",
       " '갈치': 14,\n",
       " '화덕': 14,\n",
       " '구이': 14,\n",
       " '분위기': 14,\n",
       " '사랑': 14,\n",
       " '이름': 14,\n",
       " '카메라': 14,\n",
       " '여': 14,\n",
       " '혼자': 14,\n",
       " '교토': 14,\n",
       " '분': 13,\n",
       " '휴가': 13,\n",
       " '바': 13,\n",
       " '돈': 13,\n",
       " '그림': 13,\n",
       " '데이트': 13,\n",
       " '멜번': 13,\n",
       " '오스트레일리아': 13,\n",
       " '미세먼지': 13,\n",
       " '매일': 13,\n",
       " '아이': 13,\n",
       " '도': 13,\n",
       " '기억': 13,\n",
       " '역시': 13,\n",
       " '타고': 13,\n",
       " '시작': 13,\n",
       " '글': 13,\n",
       " '샷': 13,\n",
       " '국내': 13,\n",
       " '서울': 12,\n",
       " '코스': 12,\n",
       " '줄': 12,\n",
       " '레이스': 12,\n",
       " '아이폰': 12,\n",
       " '행복': 12,\n",
       " '줌': 12,\n",
       " '바로': 12,\n",
       " '정보': 12,\n",
       " '포토': 11,\n",
       " '베트남': 11,\n",
       " '후쿠오카': 11,\n",
       " '완전': 11,\n",
       " '운동': 11,\n",
       " '노노': 11,\n",
       " '언제': 11,\n",
       " '항상': 11,\n",
       " '작년': 11,\n",
       " '육아': 11,\n",
       " '보라카이': 11,\n",
       " '주말': 10,\n",
       " '다낭': 10,\n",
       " '술': 10,\n",
       " '감사': 10,\n",
       " '밥': 10,\n",
       " '거리': 10,\n",
       " '제일': 10,\n",
       " '넹': 10,\n",
       " '점심': 10,\n",
       " '하늘': 10,\n",
       " '화보': 10,\n",
       " '니': 10,\n",
       " '제대로': 10,\n",
       " '모습': 10,\n",
       " '번': 10}"
      ]
     },
     "execution_count": 14,
     "metadata": {},
     "output_type": "execute_result"
    }
   ],
   "source": [
    "dict(p_data)"
   ]
  },
  {
   "cell_type": "code",
   "execution_count": 15,
   "metadata": {},
   "outputs": [],
   "source": [
    "import pandas as pd\n",
    "freq = dict(p_data)\n",
    "df = pd.DataFrame.from_dict(freq, orient='index',columns=['freq'])\n",
    "df.to_excel('./data/csv/{0}2.xlsx'.format(keyword),encoding='utf-8')"
   ]
  },
  {
   "cell_type": "code",
   "execution_count": null,
   "metadata": {},
   "outputs": [],
   "source": [
    "\n",
    "            \n",
    "            \n",
    "    \n",
    "        "
   ]
  },
  {
   "cell_type": "code",
   "execution_count": null,
   "metadata": {},
   "outputs": [],
   "source": []
  }
 ],
 "metadata": {
  "kernelspec": {
   "display_name": "Python 3",
   "language": "python",
   "name": "python3"
  },
  "language_info": {
   "codemirror_mode": {
    "name": "ipython",
    "version": 3
   },
   "file_extension": ".py",
   "mimetype": "text/x-python",
   "name": "python",
   "nbconvert_exporter": "python",
   "pygments_lexer": "ipython3",
   "version": "3.7.1"
  }
 },
 "nbformat": 4,
 "nbformat_minor": 2
}
