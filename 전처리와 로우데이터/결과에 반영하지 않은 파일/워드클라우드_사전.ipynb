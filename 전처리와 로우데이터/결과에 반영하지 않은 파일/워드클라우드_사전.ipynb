{
 "cells": [
  {
   "cell_type": "code",
   "execution_count": 1,
   "metadata": {},
   "outputs": [],
   "source": [
    "import pandas as pd"
   ]
  },
  {
   "cell_type": "code",
   "execution_count": 5,
   "metadata": {},
   "outputs": [],
   "source": [
    "#노가다 파일 딕셔너리 형태로\n",
    "# 게스트하우스는 문화 위주 (어떠한 컨텐츠 형태를 지니고 있는가)\n",
    "게스타하우스 = {'구경':91,'친구':63,'혼자':49}"
   ]
  },
  {
   "cell_type": "code",
   "execution_count": 8,
   "metadata": {},
   "outputs": [],
   "source": [
    "#시베리아 횡단열차 \n",
    "시베리아 = {'사람':45,'시간':29,'친구':23,'대화':14,'혼자':13}"
   ]
  },
  {
   "cell_type": "code",
   "execution_count": 11,
   "metadata": {},
   "outputs": [],
   "source": [
    "#여행 = 여행기록2\n",
    "여행 = {'사람':124,'밤':93,'분위기':84,'친구':76,'힐링':73,'사랑':72,'혼자':68,'가족':59\n",
    "     ,'마음':56,'야경':52}"
   ]
  },
  {
   "cell_type": "code",
   "execution_count": 12,
   "metadata": {},
   "outputs": [],
   "source": [
    "#크루즈여행\n",
    "크루즈여행={'가족':34,'바다':21,'연휴':17,'섬':16}"
   ]
  },
  {
   "cell_type": "code",
   "execution_count": null,
   "metadata": {},
   "outputs": [],
   "source": [
    "#크루즈투어\n",
    "크루즈투어={'부산':18,'예약':}"
   ]
  },
  {
   "cell_type": "code",
   "execution_count": 1,
   "metadata": {},
   "outputs": [],
   "source": [
    "#팬스타크루즈\n",
    "팬스타크루즈={'우리': 38,'하루': 29,'시간': 28,'공연': 23,'마지막': 22,'고생': 22,\n",
    " '불꽃': 19, '생각': 19,\n",
    " '출발': 18, '한국': 18,\n",
    " '광안대교': 17, '도착': 17,\n",
    " '친구': 16, '분위기': 15,\n",
    " '처음': 15, '수학여행': 14,\n",
    " '다시': 14, '학교': 14,\n",
    " '노래': 14, '축제': 14}"
   ]
  },
  {
   "cell_type": "code",
   "execution_count": null,
   "metadata": {},
   "outputs": [],
   "source": []
  },
  {
   "cell_type": "markdown",
   "metadata": {},
   "source": [
    "### 친구/ 사람 우선순위 혼자가 뒤에배치 "
   ]
  },
  {
   "cell_type": "code",
   "execution_count": null,
   "metadata": {},
   "outputs": [],
   "source": []
  }
 ],
 "metadata": {
  "kernelspec": {
   "display_name": "Python 3",
   "language": "python",
   "name": "python3"
  },
  "language_info": {
   "codemirror_mode": {
    "name": "ipython",
    "version": 3
   },
   "file_extension": ".py",
   "mimetype": "text/x-python",
   "name": "python",
   "nbconvert_exporter": "python",
   "pygments_lexer": "ipython3",
   "version": "3.6.5"
  }
 },
 "nbformat": 4,
 "nbformat_minor": 2
}
