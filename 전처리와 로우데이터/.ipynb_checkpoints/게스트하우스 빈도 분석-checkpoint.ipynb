{
 "cells": [
  {
   "cell_type": "code",
   "execution_count": 3,
   "metadata": {},
   "outputs": [],
   "source": [
    "from konlpy.tag import Komoran\n",
    "from konlpy.tag import Okt\n",
    "import glob\n",
    "import pandas as pd\n",
    "import re\n",
    "import nltk\n",
    "from konlpy.corpus import kobill\n",
    "from wordcloud import WordCloud, STOPWORDS\n",
    "import numpy as np\n",
    "from PIL import Image\n",
    "from konlpy.tag import Okt"
   ]
  },
  {
   "cell_type": "code",
   "execution_count": 4,
   "metadata": {},
   "outputs": [],
   "source": [
    "keyword = '게스트하우스'"
   ]
  },
  {
   "cell_type": "code",
   "execution_count": 5,
   "metadata": {},
   "outputs": [],
   "source": [
    "file_list=glob.glob('./data/insta/*.csv')"
   ]
  },
  {
   "cell_type": "code",
   "execution_count": 6,
   "metadata": {},
   "outputs": [
    {
     "data": {
      "text/plain": [
       "['./data/insta\\\\insta_게스트하우스.csv',\n",
       " './data/insta\\\\insta_시베리아 횡단열차.csv',\n",
       " './data/insta\\\\insta_여행기록.csv',\n",
       " './data/insta\\\\insta_여행에미치다.csv',\n",
       " './data/insta\\\\insta_크루즈여행.csv',\n",
       " './data/insta\\\\insta_크루즈투어.csv',\n",
       " './data/insta\\\\insta_팬스타크루즈.csv',\n",
       " './data/insta\\\\insta_호캉스.csv',\n",
       " './data/insta\\\\insta_휴가.csv',\n",
       " './data/insta\\\\insta_휴가스타그램.csv']"
      ]
     },
     "execution_count": 6,
     "metadata": {},
     "output_type": "execute_result"
    }
   ],
   "source": [
    "file_list"
   ]
  },
  {
   "cell_type": "code",
   "execution_count": 20,
   "metadata": {},
   "outputs": [],
   "source": [
    "data = pd.read_csv('./data/insta\\\\insta_{0}.csv'.format(keyword),engine='python',encoding='utf-8',names=['text'])"
   ]
  },
  {
   "cell_type": "code",
   "execution_count": 21,
   "metadata": {},
   "outputs": [],
   "source": [
    "#data"
   ]
  },
  {
   "cell_type": "code",
   "execution_count": 22,
   "metadata": {},
   "outputs": [],
   "source": [
    "advertise = ['마케팅','최신','타겟','노출','게시','도배','수집','꽃집','워드','선택','효과','동안','서비스','인기','가능','업종','연락처','작성','팅','기법','대량','덤','몇장','배포','원고','지속','문의']\n",
    "text_list=[]\n",
    "for text in data['text']:\n",
    "    for ad_text in advertise:\n",
    "        if text.find(ad_text)>=0:\n",
    "            pass\n",
    "        else:\n",
    "            text_list.append(text)\n",
    "            \n",
    "            "
   ]
  },
  {
   "cell_type": "code",
   "execution_count": 23,
   "metadata": {},
   "outputs": [],
   "source": [
    "def stripe(st):\n",
    "    RE_EMOJI = re.compile('[\\U00010000-\\U0010ffff]', flags=re.UNICODE)\n",
    "    return RE_EMOJI.sub(r'', st)"
   ]
  },
  {
   "cell_type": "code",
   "execution_count": 24,
   "metadata": {},
   "outputs": [],
   "source": [
    "p_doc = ''.join(text_list)"
   ]
  },
  {
   "cell_type": "code",
   "execution_count": 25,
   "metadata": {},
   "outputs": [],
   "source": [
    "p_doc = stripe(p_doc)"
   ]
  },
  {
   "cell_type": "code",
   "execution_count": 26,
   "metadata": {},
   "outputs": [],
   "source": [
    "p_t = Okt(max_heap_size=15096)\n",
    "p_tokens_ko = p_t.nouns(p_doc)\n",
    "p_ko = nltk.Text(p_tokens_ko, name = keyword)"
   ]
  },
  {
   "cell_type": "code",
   "execution_count": 27,
   "metadata": {},
   "outputs": [
    {
     "data": {
      "text/plain": [
       "nltk.text.Text"
      ]
     },
     "execution_count": 27,
     "metadata": {},
     "output_type": "execute_result"
    }
   ],
   "source": [
    "type(p_ko)"
   ]
  },
  {
   "cell_type": "code",
   "execution_count": 28,
   "metadata": {},
   "outputs": [],
   "source": [
    "\n",
    "#원본\n",
    "#stop_words = [keyword,'호캉스']\n",
    "stop_words = [keyword,'호캉스','및','인스타그램','키','수십','사','수','보고','해시태그','제주','그램','인스타','날']\n",
    "\n",
    "\n",
    "#['마케팅','최신','타겟','노출','게시','도배','수집','꽃집','워드','선택','효과','동안','서비스','인기','가능','업종','연락처','작성','팅','기법','대량','덤','몇장','배포','원고','지속','문의']\n",
    "p_tmp        = [ word for word in p_ko if word not in stop_words ]\n",
    "p_ko = nltk.Text(p_tmp, name= keyword)\n",
    "p_data = p_ko.vocab().most_common(200)"
   ]
  },
  {
   "cell_type": "code",
   "execution_count": 29,
   "metadata": {},
   "outputs": [
    {
     "data": {
      "text/plain": [
       "{'여행': 121697,\n",
       " '호텔': 115947,\n",
       " '소통': 81735,\n",
       " '스타': 80367,\n",
       " '사진': 69471,\n",
       " '하루': 56572,\n",
       " '오늘': 41152,\n",
       " '진짜': 38950,\n",
       " '우리': 37003,\n",
       " '육아': 35696,\n",
       " '맘': 35312,\n",
       " '피드': 35271,\n",
       " '저': 34645,\n",
       " '일상': 34330,\n",
       " '문의': 33189,\n",
       " '나': 32469,\n",
       " '데': 31095,\n",
       " '더': 28385,\n",
       " '또': 27353,\n",
       " '구경': 27205,\n",
       " '일리': 25970,\n",
       " '제': 25616,\n",
       " '선팔': 25595,\n",
       " '청주': 23454,\n",
       " '맞팔': 23381,\n",
       " '수영장': 23044,\n",
       " '곳': 23035,\n",
       " '때': 21977,\n",
       " '여기': 21164,\n",
       " '것': 21108,\n",
       " '내': 20830,\n",
       " '언니': 20737,\n",
       " '요': 20736,\n",
       " '시간': 20618,\n",
       " '조식': 20436,\n",
       " '오': 20328,\n",
       " '자주': 19961,\n",
       " '힐링': 19781,\n",
       " '수영': 19346,\n",
       " '예약': 19309,\n",
       " '맛집': 19257,\n",
       " '가요': 19043,\n",
       " '아기': 18965,\n",
       " '후배': 18502,\n",
       " '사랑': 18430,\n",
       " '뷰': 17500,\n",
       " '왜': 17483,\n",
       " '부산': 17320,\n",
       " '추천': 16982,\n",
       " '거': 16281,\n",
       " '시작': 16257,\n",
       " '겨울': 16082,\n",
       " '가족': 16059,\n",
       " '친구': 15936,\n",
       " '분': 15795,\n",
       " '너': 14801,\n",
       " '발렌타인데이': 14761,\n",
       " '카페': 14761,\n",
       " '휴가': 14750,\n",
       " '한번': 14479,\n",
       " '날씨': 14478,\n",
       " '생일': 14400,\n",
       " '부업': 14375,\n",
       " '아들': 14302,\n",
       " '엄마': 14154,\n",
       " '이벤트': 13954,\n",
       " '정말': 13689,\n",
       " '팔로우': 13595,\n",
       " '지금': 13250,\n",
       " '바다': 13032,\n",
       " '최고': 12992,\n",
       " '완전': 12879,\n",
       " '용': 12786,\n",
       " '비키니': 12577,\n",
       " '개': 12533,\n",
       " '축하': 12480,\n",
       " '호': 12341,\n",
       " '인': 12295,\n",
       " '개월': 12125,\n",
       " '여수': 12055,\n",
       " '아이': 11764,\n",
       " '제주도': 11651,\n",
       " '인천': 11500,\n",
       " '스파': 11437,\n",
       " '힐튼': 11403,\n",
       " '풀': 11366,\n",
       " '해': 11343,\n",
       " '객실': 11165,\n",
       " '그': 11135,\n",
       " '감기': 11097,\n",
       " '일': 11049,\n",
       " '이': 10907,\n",
       " '내일': 10775,\n",
       " '어디': 10676,\n",
       " '애': 10647,\n",
       " '대박': 10575,\n",
       " '옷': 10567,\n",
       " '멘토': 10561,\n",
       " '말': 10509,\n",
       " '사람': 10401,\n",
       " '딸': 10395,\n",
       " '집': 10340,\n",
       " '톡': 10328,\n",
       " '이제': 10323,\n",
       " '맛': 10297,\n",
       " '중': 10253,\n",
       " '후': 10248,\n",
       " '좀': 10246,\n",
       " '수익': 10143,\n",
       " '리조트': 10077,\n",
       " '운동': 9931,\n",
       " '후기': 9895,\n",
       " '선물': 9874,\n",
       " '뭐': 9868,\n",
       " '오션': 9825,\n",
       " '살': 9782,\n",
       " '수영복': 9773,\n",
       " '셀': 9702,\n",
       " '셀카': 9698,\n",
       " '밤': 9550,\n",
       " '파라다이스': 9494,\n",
       " '파티': 9438,\n",
       " '다낭': 9315,\n",
       " '베트남': 9286,\n",
       " '생각': 9268,\n",
       " '도': 9259,\n",
       " '벌써': 9233,\n",
       " '꼭': 9169,\n",
       " '무료': 9165,\n",
       " '카톡': 9153,\n",
       " '박': 9007,\n",
       " '요즘': 8993,\n",
       " '전': 8963,\n",
       " '물': 8952,\n",
       " '다시': 8740,\n",
       " '오픈': 8536,\n",
       " '준비': 8533,\n",
       " '한국': 8472,\n",
       " '다음': 8336,\n",
       " '행복': 8325,\n",
       " '캉스': 8274,\n",
       " '돌': 8262,\n",
       " '돈': 8197,\n",
       " '링크': 8181,\n",
       " '이번': 8154,\n",
       " '바로': 8127,\n",
       " '서울': 8083,\n",
       " '안': 8079,\n",
       " '오빠': 8040,\n",
       " '울': 8014,\n",
       " '온': 7951,\n",
       " '커플': 7938,\n",
       " '임산부': 7891,\n",
       " '노하우': 7880,\n",
       " '미소': 7873,\n",
       " '인친': 7770,\n",
       " '룸': 7762,\n",
       " '글': 7717,\n",
       " '가격': 7699,\n",
       " '번': 7632,\n",
       " '물놀이': 7614,\n",
       " '만': 7594,\n",
       " '마지막': 7516,\n",
       " '니': 7493,\n",
       " '시티': 7491,\n",
       " '기분': 7489,\n",
       " '주말': 7470,\n",
       " '둘': 7465,\n",
       " '방법': 7459,\n",
       " '마음': 7371,\n",
       " '럽': 7357,\n",
       " '역시': 7247,\n",
       " '이상': 7161,\n",
       " '계속': 7160,\n",
       " '그냥': 7137,\n",
       " '아빠': 7057,\n",
       " '저희': 7049,\n",
       " '티': 7049,\n",
       " '바': 7014,\n",
       " '세상': 6955,\n",
       " '난': 6945,\n",
       " '여름': 6891,\n",
       " '위': 6885,\n",
       " '옹': 6858,\n",
       " '끝': 6854,\n",
       " '패키지': 6836,\n",
       " '데이트': 6831,\n",
       " '추억': 6817,\n",
       " '식사': 6779,\n",
       " '구매': 6688,\n",
       " '옥': 6684,\n",
       " '다이어트': 6676,\n",
       " '신라': 6649,\n",
       " '모두': 6644,\n",
       " '세부': 6642,\n",
       " '프로필': 6639,\n",
       " '월': 6637,\n",
       " '화이팅': 6626,\n",
       " '방콕': 6588,\n",
       " '와인': 6539}"
      ]
     },
     "execution_count": 29,
     "metadata": {},
     "output_type": "execute_result"
    }
   ],
   "source": [
    "dict(p_data)"
   ]
  },
  {
   "cell_type": "code",
   "execution_count": 30,
   "metadata": {},
   "outputs": [],
   "source": [
    "import pandas as pd\n",
    "freq = dict(p_data)\n",
    "df = pd.DataFrame.from_dict(freq, orient='index',columns=['freq'])\n",
    "df.to_excel('./data/csv/{0}2.xlsx'.format(keyword),encoding='utf-8')"
   ]
  },
  {
   "cell_type": "code",
   "execution_count": null,
   "metadata": {},
   "outputs": [],
   "source": []
  },
  {
   "cell_type": "code",
   "execution_count": null,
   "metadata": {},
   "outputs": [],
   "source": []
  }
 ],
 "metadata": {
  "kernelspec": {
   "display_name": "Python 3",
   "language": "python",
   "name": "python3"
  },
  "language_info": {
   "codemirror_mode": {
    "name": "ipython",
    "version": 3
   },
   "file_extension": ".py",
   "mimetype": "text/x-python",
   "name": "python",
   "nbconvert_exporter": "python",
   "pygments_lexer": "ipython3",
   "version": "3.7.1"
  }
 },
 "nbformat": 4,
 "nbformat_minor": 2
}
