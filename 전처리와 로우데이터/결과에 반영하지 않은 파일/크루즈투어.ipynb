{
 "cells": [
  {
   "cell_type": "code",
   "execution_count": 1,
   "metadata": {},
   "outputs": [],
   "source": [
    "from konlpy.tag import Komoran\n",
    "from konlpy.tag import Okt\n",
    "import glob\n",
    "import pandas as pd\n",
    "import re\n",
    "import nltk\n",
    "from konlpy.corpus import kobill\n",
    "from wordcloud import WordCloud, STOPWORDS\n",
    "import numpy as np\n",
    "from PIL import Image\n",
    "from konlpy.tag import Okt"
   ]
  },
  {
   "cell_type": "code",
   "execution_count": 2,
   "metadata": {},
   "outputs": [],
   "source": [
    "keyword = '크루즈투어'"
   ]
  },
  {
   "cell_type": "code",
   "execution_count": 3,
   "metadata": {},
   "outputs": [],
   "source": [
    "file_list=glob.glob('./data/insta/*.csv')"
   ]
  },
  {
   "cell_type": "code",
   "execution_count": 4,
   "metadata": {},
   "outputs": [
    {
     "data": {
      "text/plain": [
       "['./data/insta\\\\insta_게스트하우스.csv',\n",
       " './data/insta\\\\insta_시베리아 횡단열차.csv',\n",
       " './data/insta\\\\insta_여행기록.csv',\n",
       " './data/insta\\\\insta_여행에미치다.csv',\n",
       " './data/insta\\\\insta_크루즈여행.csv',\n",
       " './data/insta\\\\insta_크루즈투어.csv',\n",
       " './data/insta\\\\insta_팬스타크루즈.csv',\n",
       " './data/insta\\\\insta_호캉스.csv',\n",
       " './data/insta\\\\insta_휴가.csv',\n",
       " './data/insta\\\\insta_휴가스타그램.csv']"
      ]
     },
     "execution_count": 4,
     "metadata": {},
     "output_type": "execute_result"
    }
   ],
   "source": [
    "file_list"
   ]
  },
  {
   "cell_type": "code",
   "execution_count": 5,
   "metadata": {},
   "outputs": [],
   "source": [
    "data = pd.read_csv('./data/insta\\\\insta_{0}.csv'.format(keyword),engine='python',encoding='utf-8',names=['text'])"
   ]
  },
  {
   "cell_type": "code",
   "execution_count": 6,
   "metadata": {},
   "outputs": [],
   "source": [
    "#data"
   ]
  },
  {
   "cell_type": "code",
   "execution_count": 7,
   "metadata": {},
   "outputs": [],
   "source": [
    "advertise = ['마케팅','최신','타겟','노출','게시','도배','수집','꽃집','워드','선택','효과','동안','서비스','인기','가능','업종','연락처','작성','팅','기법','대량','덤','몇장','배포','원고','지속','문의']\n",
    "a = pd.unique(data['text'])\n",
    "text_list=[]\n",
    "for text in a:\n",
    "    flag=False\n",
    "    for ad_text in advertise:\n",
    "        if text.find(ad_text) >= 0:\n",
    "            flag=True\n",
    "            break\n",
    "    if flag == False:               \n",
    "        text_list.append(text)  \n",
    "            \n",
    "            "
   ]
  },
  {
   "cell_type": "code",
   "execution_count": 8,
   "metadata": {},
   "outputs": [],
   "source": [
    "def stripe(st):\n",
    "    RE_EMOJI = re.compile('[\\U00010000-\\U0010ffff]', flags=re.UNICODE)\n",
    "    return RE_EMOJI.sub(r'', st)"
   ]
  },
  {
   "cell_type": "code",
   "execution_count": 9,
   "metadata": {},
   "outputs": [],
   "source": [
    "p_doc = ''.join(text_list)"
   ]
  },
  {
   "cell_type": "code",
   "execution_count": 10,
   "metadata": {},
   "outputs": [],
   "source": [
    "p_doc = stripe(p_doc)"
   ]
  },
  {
   "cell_type": "code",
   "execution_count": 11,
   "metadata": {},
   "outputs": [],
   "source": [
    "p_t = Okt(max_heap_size=15096)\n",
    "p_tokens_ko = p_t.nouns(p_doc)\n",
    "p_ko = nltk.Text(p_tokens_ko, name = keyword)"
   ]
  },
  {
   "cell_type": "code",
   "execution_count": 12,
   "metadata": {},
   "outputs": [
    {
     "data": {
      "text/plain": [
       "nltk.text.Text"
      ]
     },
     "execution_count": 12,
     "metadata": {},
     "output_type": "execute_result"
    }
   ],
   "source": [
    "type(p_ko)"
   ]
  },
  {
   "cell_type": "code",
   "execution_count": 13,
   "metadata": {},
   "outputs": [],
   "source": [
    "\n",
    "#원본\n",
    "#stop_words = [keyword,'호캉스']\n",
    "stop_words = [keyword,'호캉스','및','인스타그램','키','수십','사','수','보고','해시태그','제주','그램','인스타','날']\n",
    "\n",
    "\n",
    "#['마케팅','최신','타겟','노출','게시','도배','수집','꽃집','워드','선택','효과','동안','서비스','인기','가능','업종','연락처','작성','팅','기법','대량','덤','몇장','배포','원고','지속','문의']\n",
    "p_tmp        = [ word for word in p_ko if word not in stop_words ]\n",
    "p_ko = nltk.Text(p_tmp, name= keyword)\n",
    "p_data = p_ko.vocab().most_common(200)"
   ]
  },
  {
   "cell_type": "code",
   "execution_count": 14,
   "metadata": {},
   "outputs": [
    {
     "data": {
      "text/plain": [
       "{'크루즈': 612,\n",
       " '여행': 474,\n",
       " '투어': 417,\n",
       " '사진': 242,\n",
       " '하롱베이': 160,\n",
       " '스타': 131,\n",
       " '나': 102,\n",
       " '소통': 99,\n",
       " '베트남': 87,\n",
       " '야경': 86,\n",
       " '바다': 85,\n",
       " '또': 82,\n",
       " '진짜': 81,\n",
       " '날씨': 78,\n",
       " '하루': 78,\n",
       " '언니': 77,\n",
       " '우리': 65,\n",
       " '더': 64,\n",
       " '하노이': 64,\n",
       " '배': 62,\n",
       " '맞팔': 61,\n",
       " '밤': 60,\n",
       " '곳': 56,\n",
       " '박': 55,\n",
       " '섬': 55,\n",
       " '구경': 52,\n",
       " '이': 52,\n",
       " '오늘': 50,\n",
       " '시간': 50,\n",
       " '때': 48,\n",
       " '여기': 48,\n",
       " '오': 48,\n",
       " '타고': 46,\n",
       " '마지막': 44,\n",
       " '너': 43,\n",
       " '대박': 43,\n",
       " '내': 43,\n",
       " '저': 41,\n",
       " '정말': 41,\n",
       " '여수': 40,\n",
       " '꼭': 39,\n",
       " '하나': 39,\n",
       " '좀': 38,\n",
       " '거': 38,\n",
       " '가족': 38,\n",
       " '가요': 37,\n",
       " '피드': 37,\n",
       " '중': 37,\n",
       " '왜': 36,\n",
       " '힐링': 36,\n",
       " '맥주': 36,\n",
       " '것': 35,\n",
       " '느낌': 35,\n",
       " '휴가': 35,\n",
       " '자주': 35,\n",
       " '사람': 35,\n",
       " '다시': 35,\n",
       " '엄마': 35,\n",
       " '한번': 34,\n",
       " '안': 34,\n",
       " '지금': 34,\n",
       " '파티': 34,\n",
       " '가이드': 33,\n",
       " '역시': 33,\n",
       " '최고': 32,\n",
       " '완전': 32,\n",
       " '유후': 31,\n",
       " '발리': 31,\n",
       " '세계': 31,\n",
       " '선상': 31,\n",
       " '명': 31,\n",
       " '제': 30,\n",
       " '이제': 30,\n",
       " '말': 30,\n",
       " '풍경': 30,\n",
       " '처음': 30,\n",
       " '오빠': 30,\n",
       " '요트': 30,\n",
       " '개': 30,\n",
       " '일상': 30,\n",
       " '해': 28,\n",
       " '데': 28,\n",
       " '신혼여행': 28,\n",
       " '요': 28,\n",
       " '다음': 28,\n",
       " '한국': 27,\n",
       " '언제': 27,\n",
       " '프라하': 27,\n",
       " '용': 26,\n",
       " '위': 26,\n",
       " '바람': 25,\n",
       " '뉴욕': 25,\n",
       " '비': 25,\n",
       " '추억': 25,\n",
       " '도': 25,\n",
       " '시작': 25,\n",
       " '뭐': 24,\n",
       " '여름': 24,\n",
       " '사랑': 24,\n",
       " '태국': 23,\n",
       " '친구': 23,\n",
       " '그': 23,\n",
       " '혼자': 22,\n",
       " '어디': 22,\n",
       " '카약': 22,\n",
       " '일정': 22,\n",
       " '유럽': 22,\n",
       " '생각': 21,\n",
       " '추천': 21,\n",
       " '눈': 21,\n",
       " '코스': 21,\n",
       " '물': 21,\n",
       " '분위기': 21,\n",
       " '음식': 21,\n",
       " '난': 20,\n",
       " '일': 20,\n",
       " '굿': 20,\n",
       " '기억': 20,\n",
       " '얼굴': 20,\n",
       " '보기': 20,\n",
       " '돌고래': 20,\n",
       " '하와이': 20,\n",
       " '인생': 20,\n",
       " '하늘': 20,\n",
       " '호주': 20,\n",
       " '줄': 20,\n",
       " '바': 19,\n",
       " '니': 19,\n",
       " '저녁': 19,\n",
       " '번': 19,\n",
       " '일리': 19,\n",
       " '집': 19,\n",
       " '부부': 19,\n",
       " '선팔': 19,\n",
       " '선셋': 19,\n",
       " '제일': 18,\n",
       " '모습': 18,\n",
       " '그림': 18,\n",
       " '여': 18,\n",
       " '부산': 18,\n",
       " '맛': 17,\n",
       " '예약': 17,\n",
       " '짱': 17,\n",
       " '이름': 17,\n",
       " '순간': 16,\n",
       " '현지': 16,\n",
       " '강': 16,\n",
       " '가장': 16,\n",
       " '도시': 16,\n",
       " '와우': 16,\n",
       " '네': 16,\n",
       " '방콕': 16,\n",
       " '살': 16,\n",
       " '첫': 16,\n",
       " '스노': 16,\n",
       " '쿨링': 16,\n",
       " '함': 16,\n",
       " '다리': 16,\n",
       " '전': 16,\n",
       " '럭셔리': 16,\n",
       " '후': 16,\n",
       " '이번': 15,\n",
       " '괌': 15,\n",
       " '세상': 15,\n",
       " '선물': 15,\n",
       " '저희': 15,\n",
       " '분': 15,\n",
       " '동굴': 15,\n",
       " '버스': 15,\n",
       " '샷': 15,\n",
       " '호텔': 15,\n",
       " '맘': 15,\n",
       " '커피': 15,\n",
       " '시드니': 15,\n",
       " '아침': 15,\n",
       " '애': 15,\n",
       " '준비': 14,\n",
       " '밥': 14,\n",
       " '조심': 14,\n",
       " '등': 14,\n",
       " '뷰': 14,\n",
       " '유': 14,\n",
       " '인': 14,\n",
       " '허니문': 14,\n",
       " '글': 14,\n",
       " '못': 14,\n",
       " '술': 14,\n",
       " '주말': 14,\n",
       " '볼': 14,\n",
       " '캬': 14,\n",
       " '노': 14,\n",
       " '수영': 14,\n",
       " '를': 14,\n",
       " '걸': 13,\n",
       " '관광': 13,\n",
       " '놀러와': 13,\n",
       " '끝': 13,\n",
       " '카페': 13,\n",
       " '셀': 13,\n",
       " '타': 13}"
      ]
     },
     "execution_count": 14,
     "metadata": {},
     "output_type": "execute_result"
    }
   ],
   "source": [
    "dict(p_data)"
   ]
  },
  {
   "cell_type": "code",
   "execution_count": 15,
   "metadata": {},
   "outputs": [],
   "source": [
    "import pandas as pd\n",
    "freq = dict(p_data)\n",
    "df = pd.DataFrame.from_dict(freq, orient='index',columns=['freq'])\n",
    "df.to_excel('./data/csv/{0}2.xlsx'.format(keyword),encoding='utf-8')"
   ]
  },
  {
   "cell_type": "code",
   "execution_count": null,
   "metadata": {},
   "outputs": [],
   "source": []
  },
  {
   "cell_type": "code",
   "execution_count": null,
   "metadata": {},
   "outputs": [],
   "source": []
  }
 ],
 "metadata": {
  "kernelspec": {
   "display_name": "Python 3",
   "language": "python",
   "name": "python3"
  },
  "language_info": {
   "codemirror_mode": {
    "name": "ipython",
    "version": 3
   },
   "file_extension": ".py",
   "mimetype": "text/x-python",
   "name": "python",
   "nbconvert_exporter": "python",
   "pygments_lexer": "ipython3",
   "version": "3.7.1"
  }
 },
 "nbformat": 4,
 "nbformat_minor": 2
}
