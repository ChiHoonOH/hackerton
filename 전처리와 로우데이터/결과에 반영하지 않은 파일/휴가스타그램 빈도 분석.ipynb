{
 "cells": [
  {
   "cell_type": "code",
   "execution_count": 1,
   "metadata": {},
   "outputs": [],
   "source": [
    "from konlpy.tag import Komoran\n",
    "from konlpy.tag import Okt\n",
    "import glob\n",
    "import pandas as pd\n",
    "import re\n",
    "import nltk\n",
    "from konlpy.corpus import kobill\n",
    "from wordcloud import WordCloud, STOPWORDS\n",
    "import numpy as np\n",
    "from PIL import Image\n",
    "from konlpy.tag import Okt"
   ]
  },
  {
   "cell_type": "code",
   "execution_count": 2,
   "metadata": {},
   "outputs": [],
   "source": [
    "keyword = '휴가스타그램'"
   ]
  },
  {
   "cell_type": "code",
   "execution_count": 3,
   "metadata": {},
   "outputs": [],
   "source": [
    "file_list=glob.glob('./data/insta/*.csv')"
   ]
  },
  {
   "cell_type": "code",
   "execution_count": 4,
   "metadata": {},
   "outputs": [
    {
     "data": {
      "text/plain": [
       "['./data/insta\\\\insta_게스트하우스.csv',\n",
       " './data/insta\\\\insta_시베리아 횡단열차.csv',\n",
       " './data/insta\\\\insta_여행기록.csv',\n",
       " './data/insta\\\\insta_여행에미치다.csv',\n",
       " './data/insta\\\\insta_크루즈여행.csv',\n",
       " './data/insta\\\\insta_크루즈투어.csv',\n",
       " './data/insta\\\\insta_팬스타크루즈.csv',\n",
       " './data/insta\\\\insta_호캉스.csv',\n",
       " './data/insta\\\\insta_휴가.csv',\n",
       " './data/insta\\\\insta_휴가스타그램.csv']"
      ]
     },
     "execution_count": 4,
     "metadata": {},
     "output_type": "execute_result"
    }
   ],
   "source": [
    "file_list"
   ]
  },
  {
   "cell_type": "code",
   "execution_count": 5,
   "metadata": {},
   "outputs": [],
   "source": [
    "data = pd.read_csv('./data/insta\\\\insta_{0}.csv'.format(keyword),engine='python',encoding='utf-8',names=['text'])"
   ]
  },
  {
   "cell_type": "code",
   "execution_count": 6,
   "metadata": {},
   "outputs": [],
   "source": [
    "#data"
   ]
  },
  {
   "cell_type": "code",
   "execution_count": 7,
   "metadata": {},
   "outputs": [],
   "source": [
    "advertise = ['마케팅','최신','타겟','노출','게시','도배','수집','꽃집','워드','선택','효과','동안','서비스','인기','가능','업종','연락처','작성','팅','기법','대량','덤','몇장','배포','원고','지속','문의']\n",
    "a = pd.unique(data['text'])\n",
    "text_list=[]\n",
    "for text in a:\n",
    "    flag=False\n",
    "    for ad_text in advertise:\n",
    "        if text.find(ad_text) >= 0:\n",
    "            flag=True\n",
    "            break\n",
    "    if flag == False:               \n",
    "        text_list.append(text)  \n",
    "            "
   ]
  },
  {
   "cell_type": "code",
   "execution_count": 8,
   "metadata": {},
   "outputs": [],
   "source": [
    "def stripe(st):\n",
    "    RE_EMOJI = re.compile('[\\U00010000-\\U0010ffff]', flags=re.UNICODE)\n",
    "    return RE_EMOJI.sub(r'', st)"
   ]
  },
  {
   "cell_type": "code",
   "execution_count": 9,
   "metadata": {},
   "outputs": [],
   "source": [
    "p_doc = ''.join(text_list)"
   ]
  },
  {
   "cell_type": "code",
   "execution_count": 10,
   "metadata": {},
   "outputs": [],
   "source": [
    "p_doc = stripe(p_doc)"
   ]
  },
  {
   "cell_type": "code",
   "execution_count": 11,
   "metadata": {},
   "outputs": [],
   "source": [
    "p_t = Okt(max_heap_size=15096)\n",
    "p_tokens_ko = p_t.nouns(p_doc)\n",
    "p_ko = nltk.Text(p_tokens_ko, name = keyword)"
   ]
  },
  {
   "cell_type": "code",
   "execution_count": 12,
   "metadata": {},
   "outputs": [
    {
     "data": {
      "text/plain": [
       "nltk.text.Text"
      ]
     },
     "execution_count": 12,
     "metadata": {},
     "output_type": "execute_result"
    }
   ],
   "source": [
    "type(p_ko)"
   ]
  },
  {
   "cell_type": "code",
   "execution_count": 13,
   "metadata": {},
   "outputs": [],
   "source": [
    "\n",
    "#원본\n",
    "#stop_words = [keyword,'호캉스']\n",
    "stop_words = [keyword,'호캉스','및','인스타그램','키','수십','사','수','보고','해시태그','제주','그램','인스타','날']\n",
    "\n",
    "\n",
    "#['마케팅','최신','타겟','노출','게시','도배','수집','꽃집','워드','선택','효과','동안','서비스','인기','가능','업종','연락처','작성','팅','기법','대량','덤','몇장','배포','원고','지속','문의']\n",
    "p_tmp        = [ word for word in p_ko if word not in stop_words ]\n",
    "p_ko = nltk.Text(p_tmp, name= keyword)\n",
    "p_data = p_ko.vocab().most_common(200)"
   ]
  },
  {
   "cell_type": "code",
   "execution_count": 14,
   "metadata": {},
   "outputs": [
    {
     "data": {
      "text/plain": [
       "{'여행': 219,\n",
       " '휴가': 210,\n",
       " '소통': 174,\n",
       " '스타': 168,\n",
       " '사진': 160,\n",
       " '하루': 111,\n",
       " '피드': 88,\n",
       " '오늘': 71,\n",
       " '구경': 69,\n",
       " '나': 66,\n",
       " '우리': 64,\n",
       " '사이판': 63,\n",
       " '새해': 62,\n",
       " '복': 62,\n",
       " '진짜': 57,\n",
       " '또': 56,\n",
       " '제': 55,\n",
       " '더': 54,\n",
       " '가요': 50,\n",
       " '저': 50,\n",
       " '요': 47,\n",
       " '것': 47,\n",
       " '선팔': 42,\n",
       " '바다': 40,\n",
       " '때': 39,\n",
       " '내': 39,\n",
       " '오': 38,\n",
       " '자주': 36,\n",
       " '가족': 36,\n",
       " '인': 35,\n",
       " '곳': 35,\n",
       " '맘': 34,\n",
       " '맛': 34,\n",
       " '여기': 33,\n",
       " '맞팔': 33,\n",
       " '집': 32,\n",
       " '다시': 32,\n",
       " '육아': 32,\n",
       " '거': 31,\n",
       " '일상': 31,\n",
       " '날씨': 30,\n",
       " '힐링': 29,\n",
       " '시작': 29,\n",
       " '너': 29,\n",
       " '왜': 28,\n",
       " '사람': 28,\n",
       " '시간': 28,\n",
       " '용': 27,\n",
       " '일': 26,\n",
       " '오빠': 26,\n",
       " '정말': 25,\n",
       " '추천': 25,\n",
       " '한번': 25,\n",
       " '제대로': 25,\n",
       " '생각': 25,\n",
       " '역시': 24,\n",
       " '연휴': 24,\n",
       " '언니': 23,\n",
       " '제주도': 23,\n",
       " '최고': 23,\n",
       " '호텔': 23,\n",
       " '바': 23,\n",
       " '이번': 23,\n",
       " '추억': 23,\n",
       " '교육': 23,\n",
       " '이': 22,\n",
       " '준비': 22,\n",
       " '다음': 22,\n",
       " '굿': 21,\n",
       " '한국': 21,\n",
       " '안': 21,\n",
       " '언제': 21,\n",
       " '엄마': 20,\n",
       " '일본': 20,\n",
       " '이제': 20,\n",
       " '비키니': 20,\n",
       " '분위기': 19,\n",
       " '하나': 19,\n",
       " '맛집': 19,\n",
       " '데': 18,\n",
       " '완전': 18,\n",
       " '예약': 18,\n",
       " '밤': 18,\n",
       " '글': 18,\n",
       " '앞': 17,\n",
       " '도': 17,\n",
       " '겨울': 16,\n",
       " '여름': 16,\n",
       " '말': 16,\n",
       " '아들': 16,\n",
       " '친구': 16,\n",
       " '사랑': 16,\n",
       " '난': 16,\n",
       " '펜션': 16,\n",
       " '감기': 16,\n",
       " '카페': 16,\n",
       " '그냥': 15,\n",
       " '운동': 15,\n",
       " '대박': 15,\n",
       " '아이': 15,\n",
       " '전': 15,\n",
       " '음식': 15,\n",
       " '그': 15,\n",
       " '마지막': 15,\n",
       " '명절': 15,\n",
       " '중': 14,\n",
       " '놀러와': 14,\n",
       " '좀': 14,\n",
       " '눈': 14,\n",
       " '아주': 14,\n",
       " '뷰': 14,\n",
       " '누나': 14,\n",
       " '어제': 14,\n",
       " '바로': 14,\n",
       " '개': 14,\n",
       " '꼭': 14,\n",
       " '행복': 14,\n",
       " '모두': 14,\n",
       " '니': 13,\n",
       " '하와이': 13,\n",
       " '인생': 13,\n",
       " '세상': 13,\n",
       " '달': 13,\n",
       " '곧': 13,\n",
       " '휴양지': 13,\n",
       " '매일': 13,\n",
       " '위해': 13,\n",
       " '네': 13,\n",
       " '말레이시아': 13,\n",
       " '혼자': 13,\n",
       " '처음': 13,\n",
       " '주말': 13,\n",
       " '로': 13,\n",
       " '대만': 13,\n",
       " '배럴': 13,\n",
       " '지금': 12,\n",
       " '차': 12,\n",
       " '부산': 12,\n",
       " '세용': 12,\n",
       " '준': 12,\n",
       " '똑': 12,\n",
       " '살': 12,\n",
       " '가지': 12,\n",
       " '다낭': 12,\n",
       " '뭐': 12,\n",
       " '커피': 12,\n",
       " '후배': 12,\n",
       " '수영장': 11,\n",
       " '수영복': 11,\n",
       " '일리': 11,\n",
       " '박': 11,\n",
       " '낼': 11,\n",
       " '만': 11,\n",
       " '홈페이지': 11,\n",
       " '마넌': 11,\n",
       " '끝': 11,\n",
       " '항상': 11,\n",
       " '필라테스': 11,\n",
       " '번': 11,\n",
       " '애': 11,\n",
       " '해': 11,\n",
       " '수영': 10,\n",
       " '와우': 10,\n",
       " '도착': 10,\n",
       " '코스': 10,\n",
       " '티': 10,\n",
       " '저녁': 10,\n",
       " '가게': 10,\n",
       " '방콕': 10,\n",
       " '저희': 10,\n",
       " '베트남': 10,\n",
       " '게': 10,\n",
       " '영화': 10,\n",
       " '노을': 10,\n",
       " '설날': 10,\n",
       " '줄': 9,\n",
       " '후': 9,\n",
       " '임': 9,\n",
       " '아침': 9,\n",
       " '먹방': 9,\n",
       " '해외여행': 9,\n",
       " '정보': 9,\n",
       " '술': 9,\n",
       " '규': 9,\n",
       " '쌤': 9,\n",
       " '댓글': 9,\n",
       " '담': 9,\n",
       " '비': 9,\n",
       " '돈': 9,\n",
       " '형': 9,\n",
       " '누구': 9,\n",
       " '바캉스': 9,\n",
       " '강원도': 9,\n",
       " '함': 9,\n",
       " '응': 9,\n",
       " '스파': 9,\n",
       " '기분': 9,\n",
       " '팔로우': 9,\n",
       " '느낌': 9,\n",
       " '복귀': 9}"
      ]
     },
     "execution_count": 14,
     "metadata": {},
     "output_type": "execute_result"
    }
   ],
   "source": [
    "dict(p_data)"
   ]
  },
  {
   "cell_type": "code",
   "execution_count": 15,
   "metadata": {},
   "outputs": [],
   "source": [
    "import pandas as pd\n",
    "freq = dict(p_data)\n",
    "df = pd.DataFrame.from_dict(freq, orient='index',columns=['freq'])\n",
    "df.to_excel('./data/csv/{0}2.xlsx'.format(keyword),encoding='utf-8')"
   ]
  },
  {
   "cell_type": "code",
   "execution_count": null,
   "metadata": {},
   "outputs": [],
   "source": []
  },
  {
   "cell_type": "code",
   "execution_count": null,
   "metadata": {},
   "outputs": [],
   "source": []
  }
 ],
 "metadata": {
  "kernelspec": {
   "display_name": "Python 3",
   "language": "python",
   "name": "python3"
  },
  "language_info": {
   "codemirror_mode": {
    "name": "ipython",
    "version": 3
   },
   "file_extension": ".py",
   "mimetype": "text/x-python",
   "name": "python",
   "nbconvert_exporter": "python",
   "pygments_lexer": "ipython3",
   "version": "3.7.1"
  }
 },
 "nbformat": 4,
 "nbformat_minor": 2
}
