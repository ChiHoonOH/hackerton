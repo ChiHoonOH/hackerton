{
 "cells": [
  {
   "cell_type": "code",
   "execution_count": 20,
   "metadata": {},
   "outputs": [],
   "source": [
    "from konlpy.tag import Komoran\n",
    "from konlpy.tag import Okt\n",
    "import glob\n",
    "import pandas as pd\n",
    "import re\n",
    "import nltk\n",
    "from konlpy.corpus import kobill\n",
    "from wordcloud import WordCloud, STOPWORDS\n",
    "import numpy as np\n",
    "from PIL import Image\n",
    "from konlpy.tag import Okt"
   ]
  },
  {
   "cell_type": "code",
   "execution_count": 21,
   "metadata": {},
   "outputs": [],
   "source": [
    "keyword = '시베리아 횡단 열차'"
   ]
  },
  {
   "cell_type": "code",
   "execution_count": 22,
   "metadata": {},
   "outputs": [],
   "source": [
    "file_list=glob.glob('./data/insta/*.csv')"
   ]
  },
  {
   "cell_type": "code",
   "execution_count": 23,
   "metadata": {},
   "outputs": [
    {
     "data": {
      "text/plain": [
       "['./data/insta\\\\insta_게스트하우스.csv',\n",
       " './data/insta\\\\insta_시베리아 횡단열차.csv',\n",
       " './data/insta\\\\insta_여행기록.csv',\n",
       " './data/insta\\\\insta_여행에미치다.csv',\n",
       " './data/insta\\\\insta_크루즈여행.csv',\n",
       " './data/insta\\\\insta_크루즈투어.csv',\n",
       " './data/insta\\\\insta_팬스타크루즈.csv',\n",
       " './data/insta\\\\insta_호캉스.csv',\n",
       " './data/insta\\\\insta_휴가.csv',\n",
       " './data/insta\\\\insta_휴가스타그램.csv']"
      ]
     },
     "execution_count": 23,
     "metadata": {},
     "output_type": "execute_result"
    }
   ],
   "source": [
    "file_list"
   ]
  },
  {
   "cell_type": "code",
   "execution_count": 24,
   "metadata": {},
   "outputs": [],
   "source": [
    "data = pd.read_csv('./data/insta\\\\insta_시베리아 횡단열차.csv',engine='python',encoding='utf-8',names=['text'])"
   ]
  },
  {
   "cell_type": "code",
   "execution_count": null,
   "metadata": {},
   "outputs": [],
   "source": []
  },
  {
   "cell_type": "code",
   "execution_count": 31,
   "metadata": {},
   "outputs": [],
   "source": [
    "def stripe(st):\n",
    "    RE_EMOJI = re.compile('[\\U00010000-\\U0010ffff]', flags=re.UNICODE)\n",
    "    return RE_EMOJI.sub(r'', st)"
   ]
  },
  {
   "cell_type": "code",
   "execution_count": 32,
   "metadata": {},
   "outputs": [],
   "source": [
    "p_doc = ''.join(text_list)"
   ]
  },
  {
   "cell_type": "code",
   "execution_count": 33,
   "metadata": {},
   "outputs": [],
   "source": [
    "p_doc = stripe(p_doc)"
   ]
  },
  {
   "cell_type": "code",
   "execution_count": 34,
   "metadata": {},
   "outputs": [
    {
     "name": "stderr",
     "output_type": "stream",
     "text": [
      "IOPub data rate exceeded.\n",
      "The notebook server will temporarily stop sending output\n",
      "to the client in order to avoid crashing it.\n",
      "To change this limit, set the config variable\n",
      "`--NotebookApp.iopub_data_rate_limit`.\n",
      "\n",
      "Current values:\n",
      "NotebookApp.iopub_data_rate_limit=1000000.0 (bytes/sec)\n",
      "NotebookApp.rate_limit_window=3.0 (secs)\n",
      "\n"
     ]
    }
   ],
   "source": [
    "#print(p_doc)"
   ]
  },
  {
   "cell_type": "code",
   "execution_count": 35,
   "metadata": {},
   "outputs": [],
   "source": [
    "p_t = Okt(max_heap_size=4096)\n",
    "p_tokens_ko = p_t.nouns(p_doc)\n",
    "p_ko = nltk.Text(p_tokens_ko, name = '시베리아 횡단 열차')"
   ]
  },
  {
   "cell_type": "code",
   "execution_count": 40,
   "metadata": {},
   "outputs": [],
   "source": [
    "stop_words = ['시베리아 횡단 열차','열차','러시아','시베리아','횡단','블라디','진짜','보스','톡','또','내','정말','기차','마지막','오늘','것','그','보고','우리','하바롭스크','한국','다시','날','도착','언니','이제','너','때','인스타','모스크바','하루','타고','곳','더','개','꼭','박','생각','안','조심','말','이','지금','사실']\n",
    "p_tmp        = [ word for word in p_ko if word not in stop_words ]\n",
    "p_ko = nltk.Text(p_tmp, name= '시베리아 횡단 열차')\n",
    "p_data = p_ko.vocab().most_common(100)"
   ]
  },
  {
   "cell_type": "code",
   "execution_count": 41,
   "metadata": {
    "scrolled": false
   },
   "outputs": [
    {
     "data": {
      "text/plain": [
       "{'여행': 6319,\n",
       " '사진': 2907,\n",
       " '나': 2746,\n",
       " '사람': 2658,\n",
       " '시간': 1658,\n",
       " '친구': 1377,\n",
       " '대화': 1126,\n",
       " '소통': 1026,\n",
       " '날씨': 729,\n",
       " '중': 729,\n",
       " '러시아어': 729,\n",
       " '거의': 726,\n",
       " '일': 726,\n",
       " '오': 702,\n",
       " '저': 700,\n",
       " '아침': 699,\n",
       " '거': 699,\n",
       " '추억': 671,\n",
       " '몽골': 660,\n",
       " '선물': 645,\n",
       " '살': 643,\n",
       " '뭐': 642,\n",
       " '도': 619,\n",
       " '처음': 592,\n",
       " '수': 591,\n",
       " '혼자': 590,\n",
       " '왜': 567,\n",
       " '대박': 567,\n",
       " '후기': 565,\n",
       " '코키': 558,\n",
       " '바람': 540,\n",
       " '한번': 540,\n",
       " '어디': 540,\n",
       " '준비': 540,\n",
       " '온': 539,\n",
       " '누나': 538,\n",
       " '잠': 533,\n",
       " '라면': 527,\n",
       " '동안': 517,\n",
       " '김': 513,\n",
       " '다음': 513,\n",
       " '어제': 507,\n",
       " '얼굴': 486,\n",
       " '돈': 486,\n",
       " '경험': 486,\n",
       " '풍경': 486,\n",
       " '자주': 486,\n",
       " '탈린': 486,\n",
       " '난': 485,\n",
       " '맞팔': 485,\n",
       " '언제': 484,\n",
       " '거지': 480,\n",
       " '출발': 477,\n",
       " '형': 459,\n",
       " '전': 459,\n",
       " '북한': 459,\n",
       " '미지': 459,\n",
       " '녀': 459,\n",
       " '계획': 458,\n",
       " '가요': 457,\n",
       " '분': 456,\n",
       " '이르쿠츠크': 456,\n",
       " '인생': 456,\n",
       " '계속': 455,\n",
       " '최고': 453,\n",
       " '가면': 432,\n",
       " '짐': 432,\n",
       " '만난': 432,\n",
       " '피드': 432,\n",
       " '느낌': 432,\n",
       " '횡': 432,\n",
       " '단열': 432,\n",
       " '겨울': 432,\n",
       " '차안': 431,\n",
       " '스타': 429,\n",
       " '그램': 429,\n",
       " '못': 424,\n",
       " '그냥': 423,\n",
       " '여기': 405,\n",
       " '글': 405,\n",
       " '함': 405,\n",
       " '좀': 405,\n",
       " '감성': 405,\n",
       " '이번': 403,\n",
       " '영하': 403,\n",
       " '마음': 403,\n",
       " '추천': 401,\n",
       " '역': 400,\n",
       " '공항': 397,\n",
       " '뒤': 378,\n",
       " '오빠': 378,\n",
       " '여유': 378,\n",
       " '한국인': 377,\n",
       " '영어': 377,\n",
       " '구경': 376,\n",
       " '간다': 375,\n",
       " '눈': 374,\n",
       " '가족': 373,\n",
       " '앞': 373,\n",
       " '번역기': 373}"
      ]
     },
     "execution_count": 41,
     "metadata": {},
     "output_type": "execute_result"
    }
   ],
   "source": [
    "dict(p_data)"
   ]
  },
  {
   "cell_type": "code",
   "execution_count": 11,
   "metadata": {},
   "outputs": [],
   "source": [
    "# p_t = Okt()\n",
    "# p_tokens_ko = p_t.nouns(p_doc)\n",
    "# p_ko = nltk.Text(p_tokens_ko, name = keyword)\n",
    "# stop_words = [keyword,'크루즈','여행']\n",
    "# p_tmp        = [ word for word in p_ko if word not in stop_words ]\n",
    "# p_ko = nltk.Text(p_tmp, name= keyword)\n",
    "# p_data = p_ko.vocab().most_common(50)"
   ]
  },
  {
   "cell_type": "code",
   "execution_count": 39,
   "metadata": {},
   "outputs": [],
   "source": [
    "import pandas as pd\n",
    "freq = dict(p_data)\n",
    "df = pd.DataFrame.from_dict(freq, orient='index',columns=['freq'])\n",
    "df.to_excel('./data/csv/시베리아 횡단 열차2.xlsx',encoding='utf-8')"
   ]
  }
 ],
 "metadata": {
  "kernelspec": {
   "display_name": "Python 3",
   "language": "python",
   "name": "python3"
  },
  "language_info": {
   "codemirror_mode": {
    "name": "ipython",
    "version": 3
   },
   "file_extension": ".py",
   "mimetype": "text/x-python",
   "name": "python",
   "nbconvert_exporter": "python",
   "pygments_lexer": "ipython3",
   "version": "3.7.1"
  }
 },
 "nbformat": 4,
 "nbformat_minor": 2
}
