{
 "cells": [
  {
   "cell_type": "code",
   "execution_count": 7,
   "metadata": {},
   "outputs": [],
   "source": [
    "from konlpy.tag import Komoran\n",
    "from konlpy.tag import Okt\n",
    "import glob\n",
    "import pandas as pd\n",
    "import re\n",
    "import nltk\n",
    "from konlpy.corpus import kobill\n",
    "from wordcloud import WordCloud, STOPWORDS\n",
    "import numpy as np\n",
    "from PIL import Image\n",
    "from konlpy.tag import Okt"
   ]
  },
  {
   "cell_type": "code",
   "execution_count": 8,
   "metadata": {},
   "outputs": [],
   "source": [
    "keyword = '휴가스타그램'"
   ]
  },
  {
   "cell_type": "code",
   "execution_count": 9,
   "metadata": {},
   "outputs": [],
   "source": [
    "file_list=glob.glob('./data/insta/*.csv')"
   ]
  },
  {
   "cell_type": "code",
   "execution_count": 10,
   "metadata": {},
   "outputs": [
    {
     "data": {
      "text/plain": [
       "['./data/insta\\\\insta_게스트하우스.csv',\n",
       " './data/insta\\\\insta_시베리아 횡단열차.csv',\n",
       " './data/insta\\\\insta_여행기록.csv',\n",
       " './data/insta\\\\insta_여행에미치다.csv',\n",
       " './data/insta\\\\insta_크루즈여행.csv',\n",
       " './data/insta\\\\insta_크루즈투어.csv',\n",
       " './data/insta\\\\insta_팬스타크루즈.csv',\n",
       " './data/insta\\\\insta_호캉스.csv',\n",
       " './data/insta\\\\insta_휴가.csv',\n",
       " './data/insta\\\\insta_휴가스타그램.csv']"
      ]
     },
     "execution_count": 10,
     "metadata": {},
     "output_type": "execute_result"
    }
   ],
   "source": [
    "file_list"
   ]
  },
  {
   "cell_type": "code",
   "execution_count": 11,
   "metadata": {},
   "outputs": [],
   "source": [
    "data = pd.read_csv('./data/insta\\\\insta_{0}.csv'.format(keyword),engine='python',encoding='utf-8',names=['text'])"
   ]
  },
  {
   "cell_type": "code",
   "execution_count": 12,
   "metadata": {},
   "outputs": [],
   "source": [
    "#data"
   ]
  },
  {
   "cell_type": "code",
   "execution_count": 13,
   "metadata": {},
   "outputs": [],
   "source": [
    "advertise = ['마케팅','최신','타겟','노출','게시','도배','수집','꽃집','워드','선택','효과','동안','서비스','인기','가능','업종','연락처','작성','팅','기법','대량','덤','몇장','배포','원고','지속','문의']\n",
    "text_list=[]\n",
    "for text in data['text']:\n",
    "    for ad_text in advertise:\n",
    "        if text.find(ad_text)>=0:\n",
    "            pass\n",
    "        else:\n",
    "            text_list.append(text)\n",
    "            \n",
    "            "
   ]
  },
  {
   "cell_type": "code",
   "execution_count": 14,
   "metadata": {},
   "outputs": [],
   "source": [
    "def stripe(st):\n",
    "    RE_EMOJI = re.compile('[\\U00010000-\\U0010ffff]', flags=re.UNICODE)\n",
    "    return RE_EMOJI.sub(r'', st)"
   ]
  },
  {
   "cell_type": "code",
   "execution_count": 15,
   "metadata": {},
   "outputs": [],
   "source": [
    "p_doc = ''.join(text_list)"
   ]
  },
  {
   "cell_type": "code",
   "execution_count": 16,
   "metadata": {},
   "outputs": [],
   "source": [
    "p_doc = stripe(p_doc)"
   ]
  },
  {
   "cell_type": "code",
   "execution_count": 17,
   "metadata": {},
   "outputs": [],
   "source": [
    "p_t = Okt(max_heap_size=15096)\n",
    "p_tokens_ko = p_t.nouns(p_doc)\n",
    "p_ko = nltk.Text(p_tokens_ko, name = keyword)"
   ]
  },
  {
   "cell_type": "code",
   "execution_count": 18,
   "metadata": {},
   "outputs": [
    {
     "data": {
      "text/plain": [
       "nltk.text.Text"
      ]
     },
     "execution_count": 18,
     "metadata": {},
     "output_type": "execute_result"
    }
   ],
   "source": [
    "type(p_ko)"
   ]
  },
  {
   "cell_type": "code",
   "execution_count": 19,
   "metadata": {},
   "outputs": [],
   "source": [
    "\n",
    "#원본\n",
    "#stop_words = [keyword,'호캉스']\n",
    "stop_words = [keyword,'호캉스','및','인스타그램','키','수십','사','수','보고','해시태그','제주','그램','인스타','날']\n",
    "\n",
    "\n",
    "#['마케팅','최신','타겟','노출','게시','도배','수집','꽃집','워드','선택','효과','동안','서비스','인기','가능','업종','연락처','작성','팅','기법','대량','덤','몇장','배포','원고','지속','문의']\n",
    "p_tmp        = [ word for word in p_ko if word not in stop_words ]\n",
    "p_ko = nltk.Text(p_tmp, name= keyword)\n",
    "p_data = p_ko.vocab().most_common(200)"
   ]
  },
  {
   "cell_type": "code",
   "execution_count": 20,
   "metadata": {},
   "outputs": [
    {
     "data": {
      "text/plain": [
       "{'여행': 46912,\n",
       " '휴가': 43792,\n",
       " '소통': 35481,\n",
       " '사진': 31549,\n",
       " '스타': 31156,\n",
       " '하루': 27602,\n",
       " '피드': 19825,\n",
       " '사이판': 18294,\n",
       " '오늘': 17072,\n",
       " '제': 14672,\n",
       " '구경': 14277,\n",
       " '우리': 13392,\n",
       " '나': 12713,\n",
       " '가요': 11289,\n",
       " '더': 10816,\n",
       " '진짜': 10581,\n",
       " '저': 10293,\n",
       " '또': 10251,\n",
       " '인': 9816,\n",
       " '때': 9693,\n",
       " '것': 9535,\n",
       " '요': 8851,\n",
       " '사람': 8279,\n",
       " '선팔': 7980,\n",
       " '자주': 7780,\n",
       " '힐링': 7542,\n",
       " '바다': 7490,\n",
       " '집': 7208,\n",
       " '추천': 7110,\n",
       " '시작': 7013,\n",
       " '교육': 6929,\n",
       " '가족': 6862,\n",
       " '맞팔': 6831,\n",
       " '육아': 6732,\n",
       " '곳': 6578,\n",
       " '일': 6553,\n",
       " '오': 6460,\n",
       " '내': 6402,\n",
       " '여기': 6288,\n",
       " '새해': 6287,\n",
       " '다시': 6165,\n",
       " '시간': 6152,\n",
       " '이': 5958,\n",
       " '제대로': 5925,\n",
       " '왜': 5917,\n",
       " '맛': 5871,\n",
       " '거': 5804,\n",
       " '이제': 5722,\n",
       " '추억': 5582,\n",
       " '일상': 5580,\n",
       " '맘': 5535,\n",
       " '복': 5340,\n",
       " '생각': 5241,\n",
       " '한번': 5237,\n",
       " '딸': 5184,\n",
       " '아빠': 5157,\n",
       " '운영': 5094,\n",
       " '날씨': 4953,\n",
       " '다음': 4749,\n",
       " '제주도': 4632,\n",
       " '데': 4628,\n",
       " '너': 4617,\n",
       " '용': 4617,\n",
       " '정말': 4556,\n",
       " '준비': 4536,\n",
       " '오빠': 4531,\n",
       " '바': 4511,\n",
       " '호텔': 4498,\n",
       " '최고': 4457,\n",
       " '역시': 4368,\n",
       " '안': 4338,\n",
       " '마넌': 4320,\n",
       " '후배': 4314,\n",
       " '분위기': 4185,\n",
       " '일본': 4150,\n",
       " '굿': 4104,\n",
       " '예약': 4103,\n",
       " '비키니': 4095,\n",
       " '언제': 4074,\n",
       " '언니': 4067,\n",
       " '연휴': 3866,\n",
       " '이번': 3716,\n",
       " '펜션': 3672,\n",
       " '앞': 3653,\n",
       " '하나': 3646,\n",
       " '어제': 3529,\n",
       " '멘토': 3513,\n",
       " '겨울': 3510,\n",
       " '가지': 3479,\n",
       " '지금': 3460,\n",
       " '위해': 3460,\n",
       " '저희': 3438,\n",
       " '화이팅': 3384,\n",
       " '달': 3353,\n",
       " '말': 3302,\n",
       " '사랑': 3235,\n",
       " '완전': 3231,\n",
       " '마지막': 3224,\n",
       " '스파': 3205,\n",
       " '만': 3191,\n",
       " '아주': 3181,\n",
       " '살': 3164,\n",
       " '한국': 3159,\n",
       " '운동': 3158,\n",
       " '그냥': 3155,\n",
       " '커피': 3128,\n",
       " '행복': 3110,\n",
       " '대박': 3105,\n",
       " '꼭': 3100,\n",
       " '엄마': 3078,\n",
       " '맛집': 3030,\n",
       " '여름': 3024,\n",
       " '글': 3024,\n",
       " '친구': 2997,\n",
       " '확인': 2997,\n",
       " '중': 2957,\n",
       " '전': 2934,\n",
       " '혼자': 2932,\n",
       " '픽업': 2924,\n",
       " '아들': 2881,\n",
       " '문의': 2880,\n",
       " '도': 2878,\n",
       " '처음': 2866,\n",
       " '일리': 2862,\n",
       " '카페': 2848,\n",
       " '댓글': 2835,\n",
       " '밤': 2835,\n",
       " '끝': 2834,\n",
       " '개': 2827,\n",
       " '난': 2808,\n",
       " '좀': 2734,\n",
       " '산': 2727,\n",
       " '베트남': 2714,\n",
       " '수영장': 2713,\n",
       " '모두': 2706,\n",
       " '음식': 2697,\n",
       " '눈': 2692,\n",
       " '뷰': 2669,\n",
       " '간다': 2652,\n",
       " '길': 2648,\n",
       " '놀러와': 2646,\n",
       " '애': 2632,\n",
       " '그': 2614,\n",
       " '아이': 2611,\n",
       " '아침': 2594,\n",
       " '니': 2592,\n",
       " '준': 2592,\n",
       " '매일': 2592,\n",
       " '바로': 2571,\n",
       " '뭐': 2568,\n",
       " '박': 2557,\n",
       " '티': 2552,\n",
       " '세용': 2527,\n",
       " '감기': 2511,\n",
       " '부산': 2504,\n",
       " '식사': 2482,\n",
       " '후': 2471,\n",
       " '연락': 2468,\n",
       " '마음': 2444,\n",
       " '몸': 2437,\n",
       " '세상': 2397,\n",
       " '포천': 2376,\n",
       " '로': 2356,\n",
       " '줄': 2346,\n",
       " '수영복': 2344,\n",
       " '사실': 2341,\n",
       " '옹': 2329,\n",
       " '다낭': 2322,\n",
       " '인생': 2316,\n",
       " '계란': 2296,\n",
       " '낼': 2284,\n",
       " '내일': 2276,\n",
       " '쌤': 2268,\n",
       " '홈페이지': 2257,\n",
       " '와우': 2241,\n",
       " '주말': 2225,\n",
       " '누나': 2187,\n",
       " '병': 2160,\n",
       " '곧': 2160,\n",
       " '선물': 2158,\n",
       " '통해': 2143,\n",
       " '못': 2138,\n",
       " '물놀이': 2133,\n",
       " '임': 2133,\n",
       " '정보': 2133,\n",
       " '걸': 2121,\n",
       " '방문': 2121,\n",
       " '울': 2107,\n",
       " '술': 2106,\n",
       " '똑': 2106,\n",
       " '투어': 2091,\n",
       " '휴양지': 2079,\n",
       " '샘': 2079,\n",
       " '팔이': 2079,\n",
       " '쇼핑몰': 2043,\n",
       " '비': 2032,\n",
       " '필라테스': 2025,\n",
       " '밀착': 2025,\n",
       " '건강': 2010,\n",
       " '정리': 2001}"
      ]
     },
     "execution_count": 20,
     "metadata": {},
     "output_type": "execute_result"
    }
   ],
   "source": [
    "dict(p_data)"
   ]
  },
  {
   "cell_type": "code",
   "execution_count": 21,
   "metadata": {},
   "outputs": [],
   "source": [
    "import pandas as pd\n",
    "freq = dict(p_data)\n",
    "df = pd.DataFrame.from_dict(freq, orient='index',columns=['freq'])\n",
    "df.to_excel('./data/csv/{0}2.xlsx'.format(keyword),encoding='utf-8')"
   ]
  },
  {
   "cell_type": "code",
   "execution_count": null,
   "metadata": {},
   "outputs": [],
   "source": []
  },
  {
   "cell_type": "code",
   "execution_count": null,
   "metadata": {},
   "outputs": [],
   "source": []
  }
 ],
 "metadata": {
  "kernelspec": {
   "display_name": "Python 3",
   "language": "python",
   "name": "python3"
  },
  "language_info": {
   "codemirror_mode": {
    "name": "ipython",
    "version": 3
   },
   "file_extension": ".py",
   "mimetype": "text/x-python",
   "name": "python",
   "nbconvert_exporter": "python",
   "pygments_lexer": "ipython3",
   "version": "3.7.1"
  }
 },
 "nbformat": 4,
 "nbformat_minor": 2
}
