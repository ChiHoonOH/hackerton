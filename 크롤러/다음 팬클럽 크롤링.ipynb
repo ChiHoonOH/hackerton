{
 "cells": [
  {
   "cell_type": "code",
   "execution_count": 2,
   "metadata": {},
   "outputs": [],
   "source": [
    "from selenium import webdriver as wd\n",
    "from urllib.request import urlopen\n",
    "import time\n",
    "from selenium.webdriver.common.by import By\n",
    "# WebDriverWait는 Selenium 2.4.0 이후 부터 사용 가능합니다.\n",
    "from selenium.webdriver.support.ui import WebDriverWait\n",
    "# expected_conditions는 Selenium 2.26.0 이후 부터 사용 가능합니다.\n",
    "from selenium.webdriver.support import expected_conditions as EC\n",
    "from datetime import datetime as dt\n",
    "import datetime\n",
    "import pandas as pd\n",
    "from selenium.common.exceptions import NoSuchElementException"
   ]
  },
  {
   "cell_type": "code",
   "execution_count": 32,
   "metadata": {},
   "outputs": [],
   "source": [
    "def save_csv(jungbo, keyword):      \n",
    "    frame = pd.DataFrame(jungbo)\n",
    "    with open('./다음팬카페_{0}.csv'.format(keyword), 'a',encoding='utf-8') as f:\n",
    "        frame.to_csv(f, header=False, index=False, encoding='utf-8')            "
   ]
  },
  {
   "cell_type": "code",
   "execution_count": 29,
   "metadata": {},
   "outputs": [],
   "source": [
    "driver = wd.Chrome('./data/chromedriver.exe')\n",
    "driver.get( 'http://top.cafe.daum.net/_c21_/fancafe_list')"
   ]
  },
  {
   "cell_type": "code",
   "execution_count": 59,
   "metadata": {},
   "outputs": [],
   "source": [
    "total_rank=[]"
   ]
  },
  {
   "cell_type": "code",
   "execution_count": 60,
   "metadata": {},
   "outputs": [],
   "source": [
    "box = driver.find_element_by_id('mArticle')\n",
    "total_rank.append(box.text)"
   ]
  },
  {
   "cell_type": "code",
   "execution_count": 61,
   "metadata": {},
   "outputs": [
    {
     "data": {
      "text/plain": [
       "['방송인\\n옵션 더 보기\\n연간 2019년\\n옵션 더 보기\\n스타가 가입한 팬카페\\n옵션 더 보기\\n1\\n유지\\n강호동\\n카페 363등\\n응원 255등\\n팬매거진 - 등\\n2\\n유지\\n전현무\\n카페 434등\\n응원 345등\\n팬매거진 - 등\\n3\\n유지\\n장예원\\n카페 357등\\n응원 405등\\n팬매거진 - 등\\nFROM. STAR\\n공식팬카페\\n스타가 남긴 글\\n이전 보기\\n다음 보기\\n임팩트 goodnight\\n21:37:01\\n바바 일주일의 시작 ✨\\n21:06:15\\n위키미키 먕\\n20:51:42']"
      ]
     },
     "execution_count": 61,
     "metadata": {},
     "output_type": "execute_result"
    }
   ],
   "source": [
    "total_rank"
   ]
  },
  {
   "cell_type": "code",
   "execution_count": 62,
   "metadata": {},
   "outputs": [],
   "source": [
    "save_csv(total_rank,'연간방송인랭크')"
   ]
  },
  {
   "cell_type": "code",
   "execution_count": null,
   "metadata": {},
   "outputs": [],
   "source": []
  }
 ],
 "metadata": {
  "kernelspec": {
   "display_name": "Python 3",
   "language": "python",
   "name": "python3"
  },
  "language_info": {
   "codemirror_mode": {
    "name": "ipython",
    "version": 3
   },
   "file_extension": ".py",
   "mimetype": "text/x-python",
   "name": "python",
   "nbconvert_exporter": "python",
   "pygments_lexer": "ipython3",
   "version": "3.6.5"
  }
 },
 "nbformat": 4,
 "nbformat_minor": 2
}
